{
 "cells": [
  {
   "cell_type": "markdown",
   "metadata": {},
   "source": [
    "# Cartoon GAN"
   ]
  },
  {
   "cell_type": "markdown",
   "metadata": {},
   "source": [
    "This notebook is dedicated to Cartoon GAN reproduction, and hopefully apply it to portraits."
   ]
  },
  {
   "cell_type": "markdown",
   "metadata": {},
   "source": [
    "### Generative Network"
   ]
  },
  {
   "cell_type": "markdown",
   "metadata": {},
   "source": [
    "![Generative Network](generative.png)"
   ]
  },
  {
   "cell_type": "code",
   "execution_count": null,
   "metadata": {},
   "outputs": [],
   "source": [
    "\n",
    "def generative_model(inputs, data_format):\n",
    "    \n",
    "    # Block 1\n",
    "    inputs = tf.layers.conv2d(inputs,64, 7, strides=(1, 1), padding='same', data_format=data_format, name=\"Initial Layer\")\n",
    "    inputs = tf.layers.batch_normalization(inputs, axis=1 if data_format == \"channels_first\" else -1,name=\"Initial BN\")\n",
    "    inputs = tf.nn.relu(inputs)\n",
    "    \n",
    "    # Block 2\n",
    "    inputs = tf.layers.conv2d(inputs,128, 3, strides=(2, 2), padding='same', data_format=data_format, name=\"Down Convolution 1\")\n",
    "    inputs = tf.layers.conv2d(inputs,128, 3, strides=(1, 1), padding='same', data_format=data_format, name=\"Down Convolution 2\")\n",
    "    inputs = tf.layers.batch_normalization(inputs, axis=1 if data_format == \"channels_first\" else -1,name=\"Down Convolution BN\")\n",
    "    inputs = tf.nn.relu(inputs)\n",
    "    \n",
    "    # Block 3\n",
    "    inputs = tf.layers.conv2d(inputs,256, 3, strides=(2, 2), padding='same', data_format=data_format, name=\"Down Convolution 3\")\n",
    "    inputs = tf.layers.conv2d(inputs,256, 3, strides=(1, 1), padding='same', data_format=data_format, name=\"Down Convolution 4\")\n",
    "    inputs = tf.layers.batch_normalization(inputs, axis=1 if data_format == \"channels_first\" else -1,name=\"Down Convolution 2 BN\")\n",
    "    inputs = tf.nn.relu(inputs)\n",
    "    \n",
    "\n",
    "    \n",
    "    for i in range(8):\n",
    "        inputs = residual_blocks(inputs, str(i) data_format)\n",
    "        \n",
    "    \n",
    "    # Block 12\n",
    "    inputs = tf.layers.conv2d(inputs,128, 3, strides=(0.5, 0.5), padding='same', data_format=data_format, name=\"Up Convolution 1\")\n",
    "    inputs = tf.layers.conv2d(inputs,128, 3, strides=(1, 1), padding='same', data_format=data_format, name=\"Up Convolution 2\")\n",
    "    inputs = tf.layers.batch_normalization(inputs, axis=1 if data_format == \"channels_first\" else -1,name=\"Up Convolution BN\")\n",
    "    inputs = tf.nn.relu(inputs)\n",
    "    \n",
    "    # Block 13\n",
    "    inputs = tf.layers.conv2d(inputs,64, 3, strides=(0.5, 0.5), padding='same', data_format=data_format, name=\"Up Convolution 3\")\n",
    "    inputs = tf.layers.conv2d(inputs,64, 3, strides=(1, 1), padding='same', data_format=data_format, name=\"Up Convolution 4\")\n",
    "    inputs = tf.layers.batch_normalization(inputs, axis=1 if data_format == \"channels_first\" else -1,name=\"Up Convolution 2 BN\")\n",
    "    inputs = tf.nn.relu(inputs)\n",
    "    \n",
    "    inputs = tf.layers.conv2d(inputs, 3, 7, strides=(1, 1), padding='same', data_format=data_format, name=\"Generator Output\")\n",
    "    \n",
    "    return inputs\n",
    "\n",
    "    \n",
    "def residual_blocks(inputs, layer, data_format):\n",
    "    \n",
    "    orig = inputs\n",
    "    \n",
    "    inputs = tf.layers.conv2d(inputs,256, 3, strides=(1, 1), padding='same', data_format=data_format, name=\"Residual Conv 1 -\" + layer)\n",
    "    inputs = tf.layers.batch_normalization(inputs, axis=1 if data_format == \"channels_first\" else -1,name=\"Residual BN 1 -\" + layer)\n",
    "    inputs = tf.nn.relu(inputs)\n",
    "    \n",
    "    inputs = tf.layers.conv2d(inputs,256, 3, strides=(1, 1), padding='same', data_format=data_format, name=\"Residual Conv 2 -\" + layer)\n",
    "    inputs = tf.layers.batch_normalization(inputs, axis=1 if data_format == \"channels_first\" else -1,name=\"Residual BN 2 -\" + layer)\n",
    "\n",
    "    \n",
    "    return inputs + orig\n",
    "    \n",
    "    "
   ]
  },
  {
   "cell_type": "markdown",
   "metadata": {},
   "source": [
    "## Discriminator Network\n",
    "\n",
    "![Discriminator](Discriminator.png)"
   ]
  },
  {
   "cell_type": "code",
   "execution_count": null,
   "metadata": {},
   "outputs": [],
   "source": [
    "\n",
    "def discrminator_model(inputs, data_format):\n",
    "    \n",
    "    # Block 1\n",
    "    inputs = tf.layers.conv2d(inputs,32, 3, strides=(1, 1), padding='same', data_format=data_format, name=\"Dis-initial\")\n",
    "    inputs = tf.nn.leaky_relu(inputs)\n",
    "    \n",
    "    # Block 2\n",
    "    inputs = tf.layers.conv2d(inputs,64, 3, strides=(2, 2), padding='same', data_format=data_format, name=\"Dis-block-1-conv-1\")\n",
    "    inputs = tf.nn.leaky_relu(inputs)\n",
    "    inputs = tf.layers.conv2d(inputs,128, 3, strides=(1, 1), padding='same', data_format=data_format, name=\"Dis-block-1-conv-2\")\n",
    "    inputs = tf.layers.batch_normalization(inputs, axis=1 if data_format == \"channels_first\" else -1,name=\"Dis-block-1-bn-1\")\n",
    "    inputs = tf.nn.leaky_relu(inputs)\n",
    "    \n",
    "    # Block 2\n",
    "    inputs = tf.layers.conv2d(inputs,128, 3, strides=(2, 2), padding='same', data_format=data_format, name=\"Dis-block-2-conv-1\")\n",
    "    inputs = tf.nn.leaky_relu(inputs)\n",
    "    inputs = tf.layers.conv2d(inputs,256, 3, strides=(1, 1), padding='same', data_format=data_format, name=\"Dis-block-2-conv-2\")\n",
    "    inputs = tf.layers.batch_normalization(inputs, axis=1 if data_format == \"channels_first\" else -1,name=\"Dis-block-2-bn-1\")\n",
    "    inputs = tf.nn.leaky_relu(inputs)\n",
    "        \n",
    "    # Block 3\n",
    "    inputs = tf.layers.conv2d(inputs,128, 3, strides=(2, 2), padding='same', data_format=data_format, name=\"Dis-block-2-conv-1\")\n",
    "    inputs = tf.nn.leaky_relu(inputs)\n",
    "    inputs = tf.layers.conv2d(inputs,256, 3, strides=(1, 1), padding='same', data_format=data_format, name=\"Dis-block-2-conv-2\")\n",
    "    inputs = tf.layers.batch_normalization(inputs, axis=1 if data_format == \"channels_first\" else -1,name=\"Dis-block-2-bn-1\")\n",
    "    inputs = tf.nn.leaky_relu(inputs)\n",
    "    \n",
    "    inputs = tf.layers.conv2d(inputs, 1, 3, strides=(1, 1), padding='same', data_format=data_format, name=\"Discriminator Output\")\n",
    "    \n",
    "    return inputs"
   ]
  }
 ],
 "metadata": {
  "kernelspec": {
   "display_name": "Python 3",
   "language": "python",
   "name": "python3"
  },
  "language_info": {
   "codemirror_mode": {
    "name": "ipython",
    "version": 3
   },
   "file_extension": ".py",
   "mimetype": "text/x-python",
   "name": "python",
   "nbconvert_exporter": "python",
   "pygments_lexer": "ipython3",
   "version": "3.6.4"
  }
 },
 "nbformat": 4,
 "nbformat_minor": 2
}
