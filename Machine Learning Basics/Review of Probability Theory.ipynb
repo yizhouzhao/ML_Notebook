{
 "cells": [
  {
   "cell_type": "markdown",
   "metadata": {},
   "source": [
    "# Review of Probability Theory\n",
    "\n",
    "## Elements of Probability\n",
    "\n",
    "### Definition\n",
    "\n",
    "$\\newcommand{\\F}{\\mathcal{F}} \\newcommand{\\R}{\\mathbb{R}}$\n",
    "\n",
    "- **Sample space** ($\\Omega$) :  The set of all outcomes of a random experiment.  Each outcome $(w \\in \\Omega)$ can be thought of as a complete description of the state of the real world at the end of the experiment\n",
    "- **Set of events:** ($\\F$) A set whose elements $(A \\in \\F)$ are subsets of Sample space $(\\Omega)$\n",
    "    1. $\\emptyset \\in \\F $\n",
    "    2. $A \\in \\F \\Rightarrow \\Omega \\\\ A \\in \\F$\n",
    "    3. $A_1, A_2, \\cdots \\in \\F \\Rightarrow \\cup_i A_i \\in \\F$\n",
    "\n",
    "\n",
    "- **Probability measure:**  A function $P: \\F \\rightarrow \\R$ that satisfies the following properties\n",
    "  - $P(A) \\geq 0$, for all $A \\in \\F$\n",
    "  - $P(\\Omega) = 1$\n",
    "  - If $A_1, A_2, \\cdots $ are disjoint events (i.e. $A_i \\cap A_j = \\emptyset$ whenever $i \\neq j$), then \n",
    "  $$P(\\cup_i A_i) = \\sum_i P(A_i)$$"
   ]
  },
  {
   "cell_type": "markdown",
   "metadata": {},
   "source": [
    "### Conditional Probability and Independence\n",
    "\n",
    "Let $B$ be an event with non-zero probability.  The conditional probability of any event $A$ given $B$ is defined as,\n",
    "\n",
    "$$P(A | B) \\triangleq \\frac{P(A \\cap B)}{P(B)}$$\n",
    "\n",
    "**Independence** intuitively is used when we claim event $A$ is *independent* of event $B$.  $A$ happens regardless of what happens to $B$.  This can be written as \n",
    "\n",
    "$$P(A | B) = P(A)$$\n",
    "\n",
    "Given the above definition, we can conclude $A$ and $B$ are independent iff \n",
    "\n",
    "$$P(A) = P(A | B) \\triangleq \\frac{P(A \\cap B)}{P(B)}$$\n",
    "$$P(A)P(B) \\triangleq P(A \\cap B)$$"
   ]
  },
  {
   "cell_type": "markdown",
   "metadata": {},
   "source": [
    "## Random Variables"
   ]
  },
  {
   "cell_type": "markdown",
   "metadata": {},
   "source": [
    "## Modeling vs Inference"
   ]
  },
  {
   "cell_type": "markdown",
   "metadata": {},
   "source": [
    "## Probability Distributions"
   ]
  },
  {
   "cell_type": "markdown",
   "metadata": {},
   "source": [
    "## Multivariate Cases"
   ]
  },
  {
   "cell_type": "markdown",
   "metadata": {},
   "source": [
    "### Terminologies\n",
    "\n",
    "1. **Multivariate Gaussian Random Variable**\n",
    "2. **Covariance**\n",
    "3. "
   ]
  }
 ],
 "metadata": {
  "kernelspec": {
   "display_name": "Python 3",
   "language": "python",
   "name": "python3"
  },
  "language_info": {
   "codemirror_mode": {
    "name": "ipython",
    "version": 3
   },
   "file_extension": ".py",
   "mimetype": "text/x-python",
   "name": "python",
   "nbconvert_exporter": "python",
   "pygments_lexer": "ipython3",
   "version": "3.6.5"
  }
 },
 "nbformat": 4,
 "nbformat_minor": 2
}
