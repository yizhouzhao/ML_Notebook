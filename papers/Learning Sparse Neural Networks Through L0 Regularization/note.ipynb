{
 "cells": [
  {
   "cell_type": "markdown",
   "metadata": {},
   "source": [
    "# Learning Sparse Neural Networks Through L0 Regularization"
   ]
  },
  {
   "cell_type": "markdown",
   "metadata": {},
   "source": [
    "**L0 Regularization**: aims to prune the network duirng training by encouraging weights to become exactly zero.\n",
    "\n",
    "**L0 Norm**: Number of nonzero element in a vector.\n",
    "\n",
    "### Pros\n",
    "1. Speed up Training and Inference\n",
    "2. Improve generalization\n",
    "\n",
    "### Problem?\n",
    "\n",
    "**L0 Norm** is non-differentiable, how do we determine the gradient?**\n",
    "As a result, this paper will introduce a method to determine which weight to set to zero through the inclusion of a collection of non-negative stochastic gates.  "
   ]
  },
  {
   "cell_type": "markdown",
   "metadata": {},
   "source": [
    "### Terminologies"
   ]
  },
  {
   "cell_type": "markdown",
   "metadata": {},
   "source": [
    "1. model compression\n",
    "2. sparsification"
   ]
  },
  {
   "cell_type": "markdown",
   "metadata": {},
   "source": [
    "## Background"
   ]
  },
  {
   "cell_type": "markdown",
   "metadata": {},
   "source": [
    "### AIC: Akaike Information Criterion"
   ]
  },
  {
   "cell_type": "markdown",
   "metadata": {},
   "source": [
    "### BIC: Bayesian Information Criterion"
   ]
  },
  {
   "cell_type": "markdown",
   "metadata": {},
   "source": [
    "## Inspiration"
   ]
  },
  {
   "cell_type": "markdown",
   "metadata": {},
   "source": [
    "Stochastic Gradient Descent is \n",
    "1. greatly overparameterized\n",
    "2. easily overfit and even memorize random patterns in the data\n"
   ]
  }
 ],
 "metadata": {
  "kernelspec": {
   "display_name": "Python 3",
   "language": "python",
   "name": "python3"
  },
  "language_info": {
   "codemirror_mode": {
    "name": "ipython",
    "version": 3
   },
   "file_extension": ".py",
   "mimetype": "text/x-python",
   "name": "python",
   "nbconvert_exporter": "python",
   "pygments_lexer": "ipython3",
   "version": "3.6.5"
  }
 },
 "nbformat": 4,
 "nbformat_minor": 2
}
