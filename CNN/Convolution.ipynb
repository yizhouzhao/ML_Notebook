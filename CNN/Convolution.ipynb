{
 "cells": [
  {
   "cell_type": "markdown",
   "metadata": {},
   "source": [
    "# Convolution"
   ]
  },
  {
   "cell_type": "markdown",
   "metadata": {},
   "source": [
    "## Mathematical Definition:\n",
    "\n",
    "**Convolution** is defined as\n",
    "\n",
    "$$S(i,j) = (I * K)(i,j) = \\sum_m^{}\\sum_n^{} I(m,n)K(i-m, j-n)$$\n",
    "\n",
    "where **I** is the input and **K** is the kernel.  So the Convolution ***S(i, j)*** is defined as convolution centered location ***(i,j)*** of the image.  \n"
   ]
  },
  {
   "cell_type": "markdown",
   "metadata": {},
   "source": [
    "\n",
    "### Aside:  Convolution is Communicative\n",
    "\n",
    "$$\\text{Let } M = i-m,  N=j-n$$\n",
    "\n",
    "$$S(i,j) = \\sum_{M}\\sum_{N}K(M,N)I(i-M, i-N) = (K * I)(i,j)$$\n",
    "\n",
    "which is an alternate definition of convolution.  \n",
    "\n",
    "*Note:* This is possible because *K.x + I.x = i* and *K.y + I.y = j*\n"
   ]
  },
  {
   "cell_type": "markdown",
   "metadata": {},
   "source": [
    "## Convolutional Neural Network"
   ]
  },
  {
   "cell_type": "markdown",
   "metadata": {},
   "source": [
    "Inspired by the visual cortex, where individual cortical neurons respond to stimuli only ina  restricted region of visual field.\n",
    "\n",
    "1. Intuitively, we place a box over the image matrix, and calculate the kernel function (in this case weighted summation) over the receptive field.\n",
    "\n",
    "![](images/filter1.png)"
   ]
  },
  {
   "cell_type": "markdown",
   "metadata": {},
   "source": [
    "2. Resulting convolution shall be $g$:\n",
    "\n",
    "![](images/filter2.png)"
   ]
  },
  {
   "cell_type": "markdown",
   "metadata": {},
   "source": [
    "### How should we incorporate this into Neural Network?"
   ]
  },
  {
   "cell_type": "markdown",
   "metadata": {},
   "source": [
    "#### Data: \n",
    "\n",
    "Generally, the dataspace will be $x \\in \\mathcal{X}$ where $x \\in \\mathbb{R}^{H \\times W \\times C}$\n",
    "\n",
    "- $H$ - Image Height\n",
    "- $W$ - Image Width\n",
    "- $C$ - Channels (equals to 3 if image is $RGB$\n",
    "\n",
    "\n",
    "1. What are the parameters to be updated in this case?\n",
    "2. Are the parameters shared across locations?\n"
   ]
  },
  {
   "cell_type": "markdown",
   "metadata": {},
   "source": [
    "### Convolutional Layer\n",
    "\n",
    "For $x \\in \\mathbb{R}^{H \\times W \\times C}$, filter $f$ shall have dimension $F \\times H' \\times W' \\times C$. \n",
    "\n",
    "![](images/conv1.png)\n"
   ]
  },
  {
   "cell_type": "markdown",
   "metadata": {},
   "source": [
    "**Note**: $F$ in this case refers to the number of filters provided in this layer.  The resulting feature map after this convolution layer will be $y \\in \\mathbb{R}^{H'' \\times W'' \\times F}$.\n",
    "\n",
    "$$H'' = 1 + \\frac{H - H'}{S}$$\n",
    "$$W'' = 1 + \\frac{W - W'}{S}$$\n",
    "\n",
    "S - Stride"
   ]
  },
  {
   "cell_type": "markdown",
   "metadata": {},
   "source": [
    "### Questions:\n",
    "\n",
    "1. What is the size of output?\n",
    "2. What is the number of parameters?\n"
   ]
  },
  {
   "cell_type": "markdown",
   "metadata": {},
   "source": [
    "### Feature Levels\n",
    "\n",
    "![](images/features1.png)"
   ]
  },
  {
   "cell_type": "markdown",
   "metadata": {},
   "source": [
    "### Question:\n",
    "\n",
    "1. Can we have different activation for different $f \\in F$?"
   ]
  },
  {
   "cell_type": "markdown",
   "metadata": {},
   "source": [
    "## Pooling Layer\n",
    "- aims to reduce the dimension of feature map\n",
    "- operates over each feature map independently\n",
    "![](images/pooling1.png)"
   ]
  },
  {
   "cell_type": "markdown",
   "metadata": {},
   "source": [
    "![](pooling1.png)"
   ]
  }
 ],
 "metadata": {
  "kernelspec": {
   "display_name": "Python 3",
   "language": "python",
   "name": "python3"
  },
  "language_info": {
   "codemirror_mode": {
    "name": "ipython",
    "version": 3
   },
   "file_extension": ".py",
   "mimetype": "text/x-python",
   "name": "python",
   "nbconvert_exporter": "python",
   "pygments_lexer": "ipython3",
   "version": "3.6.4"
  }
 },
 "nbformat": 4,
 "nbformat_minor": 2
}
