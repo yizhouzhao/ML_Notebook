{
 "cells": [
  {
   "cell_type": "markdown",
   "metadata": {},
   "source": [
    "# Computer Vision Tasks"
   ]
  },
  {
   "cell_type": "markdown",
   "metadata": {},
   "source": [
    "![cv_task](cv_task.png)"
   ]
  },
  {
   "cell_type": "markdown",
   "metadata": {},
   "source": [
    "|               | Classification          | Localization  | Object Detection | Instance Segmentation |\n",
    "| ------------- |:-----------------------:| :------------:| :--------------: | :-------------------: |\n",
    "| Input         | Image                   | Image         |                  |                       |\n",
    "| Output        | Class Label             | Box Coordinate|                  |                       |\n",
    "| Evaluation    | Accuracy                | IoU           |                  |                       |\n"
   ]
  },
  {
   "cell_type": "markdown",
   "metadata": {},
   "source": [
    "## Localization\n",
    "\n",
    "### Input\n",
    "**Image**\n",
    "\n",
    "### Output\n",
    "\n",
    "**Coordinate within Image**, (x, y, w, h)"
   ]
  }
 ],
 "metadata": {
  "kernelspec": {
   "display_name": "Python 3",
   "language": "python",
   "name": "python3"
  },
  "language_info": {
   "codemirror_mode": {
    "name": "ipython",
    "version": 3
   },
   "file_extension": ".py",
   "mimetype": "text/x-python",
   "name": "python",
   "nbconvert_exporter": "python",
   "pygments_lexer": "ipython3",
   "version": "3.6.5"
  }
 },
 "nbformat": 4,
 "nbformat_minor": 2
}
