{
 "cells": [
  {
   "cell_type": "markdown",
   "metadata": {},
   "source": [
    "# Representation Learning"
   ]
  },
  {
   "cell_type": "markdown",
   "metadata": {},
   "source": [
    "## What is Representation Learning?\n",
    "\n",
    "**Representation Learning** is learning representations of the data that make it easier to extract useful information when building classifiers or other predictors.\n",
    "\n",
    "In other words, humans can define *priors* about the problem setting that may or may not be task specific; however, it would be useful for a leanring machine to solve **AI-tasks**."
   ]
  },
  {
   "cell_type": "markdown",
   "metadata": {},
   "source": [
    "### What are the contemporary methods in Representation Learning?\n",
    "\n",
    "#### Priors for Representation Learning in AI.\n",
    "\n",
    "##### Smoothness:\n",
    "\n",
    "Assumes the function to be learned $f$ is s.t. $x \\approx y \\Longrightarrow f(x) \\approx f(y)$\n",
    "\n",
    "**Problem?**\n",
    "1. **Curse of Dimensionality**\n",
    "\n",
    "##### Multiple Explanatory Factors:  \n",
    "For more information, look at **Distributed representations**.\n",
    "\n",
    "\n",
    "##### Hierarchical Organization of Explanatory Factors:\n",
    "\n",
    "\n",
    "##### Semi-supervised Learning:\n",
    "\n",
    "\n",
    "##### Shared factors across tasks:\n",
    "\n",
    "\n",
    "##### Manifolds\n",
    "\n",
    "\n",
    "##### Natural Clustering:\n",
    "\n",
    "\n",
    "##### Temporal and Spatial Coherence:\n",
    "\n",
    "\n",
    "##### Sparsity:\n",
    "$x$, small fraction of possible factors are relevant\n",
    "Representation of Sparisty:\n",
    "1. Zero as irrevlevant feature\n",
    "2. Feature insensitive to small variations of $x$\n",
    "    - prior on latent variable\n",
    "    - nonlinearity whose value is flat at 0 \n",
    "    - penalizing the magnitude of hte Jacobian matrix of function mapping input to representation\n",
    "\n",
    "##### Simplicity of Factor Dependencies:\n",
    "There are linear dependencies in many laws of physics.  It makes some sense (?) to plug linear predictor on top of a learned representation.  "
   ]
  },
  {
   "cell_type": "markdown",
   "metadata": {},
   "source": [
    "### Curse of Dimensionality"
   ]
  },
  {
   "cell_type": "markdown",
   "metadata": {},
   "source": [
    "Number of wrinkles may grow exponentially with the number of relevant interacting factors, when the data are represented in raw input space.  \n",
    "\n",
    "- Goal:  we hope to incorporate gneeric priors such as smoothness assumption above representation-learning algorithm\n",
    "- We would like to use the data to discover features rather than explicitly defining similarity functions."
   ]
  },
  {
   "cell_type": "markdown",
   "metadata": {},
   "source": [
    "### Distributed Representations\n"
   ]
  },
  {
   "cell_type": "markdown",
   "metadata": {},
   "source": []
  }
 ],
 "metadata": {
  "kernelspec": {
   "display_name": "Python 3",
   "language": "python",
   "name": "python3"
  },
  "language_info": {
   "codemirror_mode": {
    "name": "ipython",
    "version": 3
   },
   "file_extension": ".py",
   "mimetype": "text/x-python",
   "name": "python",
   "nbconvert_exporter": "python",
   "pygments_lexer": "ipython3",
   "version": "3.6.5"
  }
 },
 "nbformat": 4,
 "nbformat_minor": 2
}
