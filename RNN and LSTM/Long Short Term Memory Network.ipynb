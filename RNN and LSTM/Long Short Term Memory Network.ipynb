{
 "cells": [
  {
   "cell_type": "markdown",
   "metadata": {},
   "source": [
    "# Long Short Term Memory Network"
   ]
  },
  {
   "cell_type": "markdown",
   "metadata": {},
   "source": [
    "## LSTM Units\n",
    "\n",
    "In addition to recurrent variable $h_t$, LSTM also have a memory cell $c_i$.\n",
    "\n",
    "![](lstm_cell.png)\n",
    "\n",
    "\n",
    "## RNN vs LSTM\n",
    "\n",
    "![](rnnvslstm.png)"
   ]
  },
  {
   "cell_type": "markdown",
   "metadata": {},
   "source": [
    "## Analyze LSTM"
   ]
  },
  {
   "cell_type": "markdown",
   "metadata": {},
   "source": [
    "There are four parameters to be learned:\n",
    "\n",
    "$i$ - this parameter determines whether to use recurrent value\n",
    "\n",
    "$f$ - this parameter determines whether to use the memory value\n",
    "\n",
    "$o$ - this parameter is a gate to tune recurrent value (output value)\n",
    "\n",
    "$g$ - this parameter is the recurrent value "
   ]
  },
  {
   "cell_type": "markdown",
   "metadata": {},
   "source": [
    "### Another way to look at the diagrams \n",
    "\n",
    "![](lstm_diagram2.png)"
   ]
  },
  {
   "cell_type": "markdown",
   "metadata": {},
   "source": [
    "## Stacked LSTM\n",
    "\n",
    "![](stacked_lstm.png)\n",
    "\n",
    "Note, in contrast with RNN, LSTM's output is recurrent value $h_t$.  Moreoever, $h_t$ is also composed with $x_t$ as part of the input."
   ]
  },
  {
   "cell_type": "markdown",
   "metadata": {},
   "source": [
    "## Variations of LSTM\n",
    "\n",
    "![](lstm_diagrams.png)\n",
    "\n",
    "1. GRU"
   ]
  },
  {
   "cell_type": "markdown",
   "metadata": {},
   "source": [
    "## Sample Problems\n",
    "\n",
    "1. Search for Interpretable cells\n",
    "2. Generating Math\n",
    "3. Generating Codes"
   ]
  },
  {
   "cell_type": "markdown",
   "metadata": {},
   "source": [
    "## LSTM Properties\n",
    "\n",
    "1. How fast can the cell value c grow with time? Linear\n",
    "2. How fast can the backpropagated gradient of c grow with time? \n",
    "\n",
    "So, $h_t$ may behave weirdly.  $c_t$ is stable :D.\n"
   ]
  }
 ],
 "metadata": {
  "kernelspec": {
   "display_name": "Python 3",
   "language": "python",
   "name": "python3"
  },
  "language_info": {
   "codemirror_mode": {
    "name": "ipython",
    "version": 3
   },
   "file_extension": ".py",
   "mimetype": "text/x-python",
   "name": "python",
   "nbconvert_exporter": "python",
   "pygments_lexer": "ipython3",
   "version": "3.6.5"
  }
 },
 "nbformat": 4,
 "nbformat_minor": 2
}
