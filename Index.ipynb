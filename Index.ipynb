{
 "cells": [
  {
   "cell_type": "markdown",
   "metadata": {},
   "source": [
    "# Table of Contents"
   ]
  },
  {
   "cell_type": "markdown",
   "metadata": {},
   "source": [
    "## Lecture 1\n",
    "\n",
    "- [History of Deep Learning](History of Deep Learning.ipynb)\n",
    "- [Connection of Deep Learning with Certain Tasks](Connection of DNN and Theory Complexity.ipynb)\n",
    "- [Computer Vision History](Computer Vision.ipynb)\n",
    "- k-Nearst Neighbor on Images: TODO\n",
    "    - terrible performance at test time\n",
    "    - distance metric on level of whole images can be very intuitive \n",
    "    \n",
    "\n",
    "## Lecture 2\n",
    "- Deep networks learn good internal representation with only end-to-end supervision\n",
    "    - [Representation Learning](papers/Representation Learning%3A Review/Representation Learning.ipynb)\n",
    "    - [Transfer Learning]()\n",
    "    - [MultiTask Learning]()\n",
    "    - [Network Visualization](Neural Networks/Network Visualization.ipynb)\n",
    "- [Machine Learning Fundamentals](Machine Learning Basics/Machine Learning Basics.ipynb)\n",
    "    - [Generative vs Discriminative Models](Machine Learning Basics/Generative vs Discriminative Models.ipynb)\n",
    "    - [Logistic Regression](Machine Learning Basics/Regressions/Logistic Regression.ipynb)\n",
    "    - [Linear Regression](Machine Learning Basics/Regressions/Linear Regression.ipynb)\n",
    "\n",
    "## Lecture 3\n",
    "- [SVM: Margin, Hinge Loss](Machine Learning Basics/Losses/Losses.ipynb)\n",
    "- [SVM](Machine Learning Basics/SVM-approach.ipynb)\n",
    "    - Multiclass SVM\n",
    "- Regularization\n",
    "    - L2\n",
    "- Softmax Classifier\n",
    "- Cross Validation\n",
    "\n",
    "## Lecture 4\n",
    "- [Optimization Techniques](Machine Learning Basics/Optimization.ipynb)\n",
    "- Backpropogation\n",
    "\n",
    "## Lecture 5\n",
    "- Backpropogation\n",
    "- Convolution and Pooling Layer\n",
    "\n",
    "## Lecture 6\n",
    "- [LeNet5](CNN/SampleCNNs/LeNet5.ipynb)\n",
    "- AlexNet\n",
    "- Transfer Learning\n",
    "\n",
    "## Lecture 7\n",
    "\n",
    "## Lecture 8\n",
    "\n",
    "## Lecture 9\n",
    "\n",
    "## Lecture 10\n",
    "\n",
    "## Lecture 11\n",
    "\n",
    "## Lecture 12"
   ]
  }
 ],
 "metadata": {
  "kernelspec": {
   "display_name": "Python 3",
   "language": "python",
   "name": "python3"
  },
  "language_info": {
   "codemirror_mode": {
    "name": "ipython",
    "version": 3
   },
   "file_extension": ".py",
   "mimetype": "text/x-python",
   "name": "python",
   "nbconvert_exporter": "python",
   "pygments_lexer": "ipython3",
   "version": "3.6.4"
  }
 },
 "nbformat": 4,
 "nbformat_minor": 2
}
