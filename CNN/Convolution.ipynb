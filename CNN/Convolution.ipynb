{
 "cells": [
  {
   "cell_type": "markdown",
   "metadata": {},
   "source": [
    "# Convolution"
   ]
  },
  {
   "cell_type": "markdown",
   "metadata": {},
   "source": [
    "## Mathematical Definition:\n",
    "\n",
    "**Convolution** is defined as\n",
    "\n",
    "$$S(i,j) = (I * K)(i,j) = \\sum_m^{}\\sum_n^{} I(m,n)K(i-m, j-n)$$\n",
    "\n",
    "where **I** is the input and **K** is the kernel.  So the Convolution ***S(i, j)*** is defined as convolution centered location ***(i,j)*** of the image.  \n",
    "\n",
    "### Aside:  Convolution is Communicative\n",
    "\n",
    "$$\\text{Let } M = i-m,  N=j-n$$\n",
    "\n",
    "$$S(i,j) = \\sum_{M}\\sum_{N}K(M,N)I(i-M, i-N) = (K * I)(i,j)$$\n",
    "\n",
    "which is an alternate definition of convolution.  \n",
    "\n",
    "*Note:* This is possible because *K.x + I.x = i* and *K.y + I.y = j*\n",
    "\n",
    "## Application in Machine Learning\n",
    "\n",
    "**So... why is this important?**"
   ]
  }
 ],
 "metadata": {
  "kernelspec": {
   "display_name": "Python 3",
   "language": "python",
   "name": "python3"
  },
  "language_info": {
   "codemirror_mode": {
    "name": "ipython",
    "version": 3
   },
   "file_extension": ".py",
   "mimetype": "text/x-python",
   "name": "python",
   "nbconvert_exporter": "python",
   "pygments_lexer": "ipython3",
   "version": "3.6.5"
  }
 },
 "nbformat": 4,
 "nbformat_minor": 2
}
