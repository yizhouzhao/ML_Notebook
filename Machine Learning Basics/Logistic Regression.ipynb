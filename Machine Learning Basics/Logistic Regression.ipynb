{
 "cells": [
  {
   "cell_type": "markdown",
   "metadata": {},
   "source": [
    "# Linear Regression"
   ]
  },
  {
   "cell_type": "markdown",
   "metadata": {},
   "source": [
    "## Data\n",
    "\n",
    "Since this is linear regression, we will have datapoints with the following format:\n",
    "\n",
    "$$(x_i, y_i) \\in \\mathbb{R} \\times \\{0, 1\\}$$"
   ]
  },
  {
   "cell_type": "code",
   "execution_count": 2,
   "metadata": {},
   "outputs": [],
   "source": [
    "import numpy as np\n",
    "import matplotlib.pyplot as plt\n",
    "N = 64 # Sample size\n",
    "a = 2.1\n",
    "b = 0.8"
   ]
  },
  {
   "cell_type": "code",
   "execution_count": 17,
   "metadata": {},
   "outputs": [],
   "source": [
    "x_rand = np.random.rand(N)\n",
    "y_rand = np.random.rand(N)\n",
    "\n",
    "x = np.arange(-N/2, N/2)\n",
    "y_plus = np.ones(N//2)\n",
    "y_minus = np.zeros(N//2)\n",
    "y = np.concatenate([y_minus, y_plus])\n"
   ]
  },
  {
   "cell_type": "code",
   "execution_count": 18,
   "metadata": {},
   "outputs": [
    {
     "data": {
      "image/png": "[encoded data removed]",
      "text/plain": [
       "<Figure size 432x288 with 1 Axes>"
      ]
     },
     "metadata": {},
     "output_type": "display_data"
    }
   ],
   "source": [
    "plt.scatter(x, y)\n",
    "plt.title(\"Randomly Generated Logistic Data\")\n",
    "plt.show()"
   ]
  },
  {
   "cell_type": "markdown",
   "metadata": {},
   "source": [
    "## Model\n",
    "\n",
    "In logistic regression, we would want to create a prediction function in the form of **sigmoid function**:\n",
    "\n",
    "Let $u = w^Tx$ be **logits**\n",
    "\n",
    "$$\\hat{y} = f(x) = \\frac{1}{1 + \\exp(-u)}$$"
   ]
  },
  {
   "cell_type": "markdown",
   "metadata": {},
   "source": [
    "### Loss Function"
   ]
  },
  {
   "cell_type": "markdown",
   "metadata": {},
   "source": [
    "Since $\\hat{y} \\in [0, 1]$ and $y \\in \\{0, 1\\}$,  we can model \n",
    "$\\hat{y}$ as the probability x is in the target class.  \n",
    "\n",
    "The definition of **probability of correct classification** is \n",
    "\n",
    "$$p_{correct} =\n",
    "    \\begin{cases}\n",
    "      \\hat{y}, & \\text{if}\\ y=1 \\\\\n",
    "      1 - \\hat{y}, & \\text{if}\\ y=0\n",
    "    \\end{cases}$$\n",
    "\n",
    "or \n",
    "$$p_{correct} = y\\hat{y} + (1 - y)(1 - \\hat{y})$$"
   ]
  },
  {
   "cell_type": "markdown",
   "metadata": {},
   "source": [
    "We can define **Cross Entropy loss** as $-\\log$ of $p_{correct}$\n",
    "\n",
    "$$L = \\log(p_{correct}) = -\\sum_{i=1}^n y_i \\log \\hat{y}_i + ( 1 - y_i)\\log(1 - \\hat{y}_i)$$"
   ]
  }
 ],
 "metadata": {
  "kernelspec": {
   "display_name": "Python 3",
   "language": "python",
   "name": "python3"
  },
  "language_info": {
   "codemirror_mode": {
    "name": "ipython",
    "version": 3
   },
   "file_extension": ".py",
   "mimetype": "text/x-python",
   "name": "python",
   "nbconvert_exporter": "python",
   "pygments_lexer": "ipython3",
   "version": "3.6.5"
  }
 },
 "nbformat": 4,
 "nbformat_minor": 2
}
