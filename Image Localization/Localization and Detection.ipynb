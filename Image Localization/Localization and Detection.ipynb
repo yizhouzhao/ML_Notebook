{
 "cells": [
  {
   "cell_type": "markdown",
   "metadata": {},
   "source": [
    "# Computer Vision Tasks"
   ]
  },
  {
   "cell_type": "markdown",
   "metadata": {},
   "source": [
    "![cv_task](cv_task.png)"
   ]
  },
  {
   "cell_type": "markdown",
   "metadata": {},
   "source": [
    "|               | Classification          | Localization  | Object Detection | Instance Segmentation |\n",
    "| ------------- |:-----------------------:| :------------:| :--------------: | :-------------------: |\n",
    "| Input         | Image                   | Image         |                  |                       |\n",
    "| Output        | Class Label             | Box Coordinate|                  |                       |\n",
    "| Evaluation    | Accuracy                | IoU           |                  |                       |\n"
   ]
  },
  {
   "cell_type": "markdown",
   "metadata": {},
   "source": [
    "## Localization\n",
    "\n",
    "### Input\n",
    "**Image**\n",
    "\n",
    "### Output\n",
    "\n",
    "**Coordinate within Image**, (x, y, w, h)\n",
    "\n",
    "### How to Train?\n",
    "\n",
    "1. Train/Download a classification model (Alexnet, VGG, GoogLeNet)\n",
    "2. Attach new fully-connected \"regression head\" to the network\n",
    "3. Train the regression head only with SGD and L2 Loss\n",
    "4. At Test Time use both heads\n",
    "\n",
    "\n",
    "*Note*:  There are two types regression head\n",
    "- Per class regression:  Output is $y \\in \\mathbb{R}^C$, each represent the likelihood of that class's existence \n",
    "- Agnostic Regression: Output is $y \\in \\mathbb{R}^{C \\times 4}$, where each class have a 4 number coordinate value.\n"
   ]
  },
  {
   "cell_type": "markdown",
   "metadata": {},
   "source": [
    "#### Specific Example:  Sliding Window\n",
    "- run classification + regression network at multiple locations on a high-resolution image\n",
    "- convert fc layers into conlution layers for efficient computatin\n",
    "- combine classifier and regressor predictions across all scales for final prediction\n",
    "\n",
    "For more information, checkout [Overfeat]()"
   ]
  },
  {
   "cell_type": "markdown",
   "metadata": {},
   "source": [
    "### Object Detection\n",
    "\n",
    "#### Detection as Regression\n",
    "\n",
    "Given an image, the network would output the coordinates for each detected class.\n",
    "\n",
    "#### Detection as Classification\n",
    "\n",
    "Given an image, the network would move a box around the image and train to output the class of the subimage in the box.\n",
    "\n",
    "## Examples\n",
    "\n",
    "| Algorithm/Network        | Types           \n",
    "| ------------- |:-------------:\n",
    "| Histogram of Oriented Gradients     | right-aligned \n",
    "| Deformable Parts Model     | centered      \n",
    "| Regional Proposals | are neat   \n",
    "| YOLO | "
   ]
  }
 ],
 "metadata": {
  "kernelspec": {
   "display_name": "Python 3",
   "language": "python",
   "name": "python3"
  },
  "language_info": {
   "codemirror_mode": {
    "name": "ipython",
    "version": 3
   },
   "file_extension": ".py",
   "mimetype": "text/x-python",
   "name": "python",
   "nbconvert_exporter": "python",
   "pygments_lexer": "ipython3",
   "version": "3.6.4"
  }
 },
 "nbformat": 4,
 "nbformat_minor": 2
}
