{
 "cells": [
  {
   "cell_type": "markdown",
   "metadata": {},
   "source": [
    "# Tensor Product using Bases"
   ]
  },
  {
   "cell_type": "markdown",
   "metadata": {},
   "source": [
    "Let $(u_i)_{i \\in I}$ and $(v_j)_{j \\in J}$ be bases of $U$ and $V$.\n",
    "\n"
   ]
  },
  {
   "cell_type": "markdown",
   "metadata": {},
   "source": [
    "*Define*: \n",
    "\n",
    "$$(U \\otimes V)' := \\mathbb{F}<((u_i, v_j)_{i\\in I, j\\in J})>$$\n",
    "\n",
    "1. $\\tau' : U \\times V \\rightarrow (U \\otimes V)'$\n",
    "    - determined by $((u_i, v_j) \\mapsto \\delta_{u_i, v_j})_{i \\in I, j\\in J}$\n",
    "    "
   ]
  },
  {
   "cell_type": "markdown",
   "metadata": {},
   "source": [
    "Suppose $U$ and $V$ are vector spaces overa  field $\\mathbb{F}$.\n",
    "- $(u_i)_{i \\in I}$ is a basis of $U$, and $(v_j)_{j \\in J}$ is a basis of $V$ $\\Longrightarrow (u_i \\otimes v_j)_{i\\in I, j\\in J}$ is a a basis of $U \\otimes V$ \n",
    "\n",
    "Let $B: U \\times V \\rightarrow W$ be a bilinear map:\n",
    "\n",
    "$$\\exists$$ a unique linear map, $\\hat{B}' : U \\otimes V \\rightarrow W$\n",
    "\n",
    "for $U \\times V$, there is $U \\otimes V$"
   ]
  },
  {
   "cell_type": "markdown",
   "metadata": {},
   "source": []
  }
 ],
 "metadata": {
  "kernelspec": {
   "display_name": "Python 3",
   "language": "python",
   "name": "python3"
  },
  "language_info": {
   "codemirror_mode": {
    "name": "ipython",
    "version": 3
   },
   "file_extension": ".py",
   "mimetype": "text/x-python",
   "name": "python",
   "nbconvert_exporter": "python",
   "pygments_lexer": "ipython3",
   "version": "3.6.5"
  }
 },
 "nbformat": 4,
 "nbformat_minor": 2
}
