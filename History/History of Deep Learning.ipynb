{
 "cells": [
  {
   "cell_type": "markdown",
   "metadata": {},
   "source": [
    "# History of Deep Learning"
   ]
  },
  {
   "cell_type": "markdown",
   "metadata": {},
   "source": [
    "**Ideas**:  \n",
    "\n",
    "We can categorize Milestone as\n",
    "- Data-based vs Structure Based\n",
    "- More parameter left alone vs More parameter manipulated\n",
    "\n"
   ]
  },
  {
   "cell_type": "markdown",
   "metadata": {},
   "source": [
    "#### 1989: LeNet and Digit Recognition\n",
    "\n",
    "[link to LeNet Implementation]\n",
    "\n",
    "![](lenet1.png)\n",
    "- Simple Network used to recognize zip codes\n",
    "- Developed by Yann Lecun"
   ]
  },
  {
   "cell_type": "markdown",
   "metadata": {},
   "source": [
    "#### 1997: Speech Recognition \n",
    "\n",
    "[link to LSTM Implementation]\n",
    "\n",
    "![](lstm1.png)"
   ]
  },
  {
   "cell_type": "markdown",
   "metadata": {},
   "source": [
    "#### 2012: AlexNet:  ImageNet\n",
    "![](alexnet1.png)\n",
    "[link to AlexNet Implementation]\n",
    "\n",
    "- Large set of Data on Convolutional NN\n",
    "- Doubled Performance of Image Recognition\n"
   ]
  },
  {
   "cell_type": "markdown",
   "metadata": {},
   "source": [
    "#### 2016: Language Translation with LSTM and Attention\n",
    "\n",
    "[link to Translation Implementation]\n",
    "![](translation1.png)"
   ]
  },
  {
   "cell_type": "markdown",
   "metadata": {},
   "source": [
    "#### 2016: Deep Reinforcement Learning\n",
    "\n",
    "![](drl.png)"
   ]
  },
  {
   "cell_type": "markdown",
   "metadata": {},
   "source": [
    "#### 2017: Neural Text Processing\n",
    "![](neural_text_processing.png)"
   ]
  },
  {
   "cell_type": "markdown",
   "metadata": {},
   "source": [
    "Today, we can view problem solving in AI not as a \"general intelligence\", but series of solutions targeted against a specific circle of problems\n",
    "\n",
    "And the circle is expanding to new areas..."
   ]
  }
 ],
 "metadata": {
  "kernelspec": {
   "display_name": "Python 3",
   "language": "python",
   "name": "python3"
  },
  "language_info": {
   "codemirror_mode": {
    "name": "ipython",
    "version": 3
   },
   "file_extension": ".py",
   "mimetype": "text/x-python",
   "name": "python",
   "nbconvert_exporter": "python",
   "pygments_lexer": "ipython3",
   "version": "3.6.5"
  }
 },
 "nbformat": 4,
 "nbformat_minor": 2
}
