{
 "cells": [
  {
   "cell_type": "markdown",
   "metadata": {},
   "source": [
    "# Gradient Noise"
   ]
  },
  {
   "cell_type": "markdown",
   "metadata": {},
   "source": [
    "\"Adding Gradient Noise Improves Learning for Very Deep Networks”Arvind Neelakantanet al., 2016\n"
   ]
  },
  {
   "cell_type": "markdown",
   "metadata": {},
   "source": [
    "Schedule:\n",
    "\n",
    "$$g_t \\leftarrow g_t + \\mathcal{N}(0, \\sigma_t^2)$$\n",
    "\n",
    "where the noise variance is\n",
    "\n",
    "$$\\sigma_t^2 = \\frac{\\eta}{(1 + t)^{\\gamma}}$$\n",
    "\n",
    "with $\\eta$ selected from $\\{0.01, 0.3, 1.0\\}$ and $\\gamma = 0.55$"
   ]
  }
 ],
 "metadata": {
  "kernelspec": {
   "display_name": "Python 3",
   "language": "python",
   "name": "python3"
  },
  "language_info": {
   "codemirror_mode": {
    "name": "ipython",
    "version": 3
   },
   "file_extension": ".py",
   "mimetype": "text/x-python",
   "name": "python",
   "nbconvert_exporter": "python",
   "pygments_lexer": "ipython3",
   "version": "3.6.5"
  }
 },
 "nbformat": 4,
 "nbformat_minor": 2
}
