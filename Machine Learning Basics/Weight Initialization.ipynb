{
 "cells": [
  {
   "cell_type": "markdown",
   "metadata": {},
   "source": [
    "# Weight Initialization"
   ]
  },
  {
   "cell_type": "markdown",
   "metadata": {},
   "source": [
    "## Random Numbers"
   ]
  },
  {
   "cell_type": "markdown",
   "metadata": {},
   "source": [
    "``` python\n",
    "W = 0.01*np.random.randn(D, H)\n",
    "\n",
    "```\n",
    "\n",
    "1. Ideal for small networks\n",
    "2. May have non-homogenous distribution of activatoin across the layers of a network"
   ]
  },
  {
   "cell_type": "markdown",
   "metadata": {},
   "source": [
    "### If Initialization is too Small?\n",
    "\n",
    "1. Activatoin become zero\n",
    "\n",
    "### If initializatoin is too Large\n",
    "\n",
    "2. Saturated Neurons"
   ]
  },
  {
   "cell_type": "markdown",
   "metadata": {},
   "source": [
    "## Xavier Initialization\n",
    "\n",
    "**What happens if combined with RELU?**\n"
   ]
  },
  {
   "cell_type": "markdown",
   "metadata": {},
   "source": [
    "Understanding the difficulty of training deep feedforward neural networksby Glorot and Bengio, 2010\n",
    "\n",
    "Exact solutions to the nonlinear dynamics of learning in deep linear neural networks by Saxe et al, 2013\n",
    "\n",
    "Random walk initialization for training very deep feedforward networksby Sussillo and Abbott, 2014\n",
    "\n",
    "Delving deep into rectifiers: Surpassing human-level performance on ImageNet classificationby He et al., 2015\n",
    "\n",
    "Data-dependent Initializations of Convolutional Neural Networksby Krähenbühl et al., 2015\n",
    "\n",
    "All you need is a good init, Mishkin and Matas, 2015...\n"
   ]
  }
 ],
 "metadata": {
  "kernelspec": {
   "display_name": "Python 3",
   "language": "python",
   "name": "python3"
  },
  "language_info": {
   "codemirror_mode": {
    "name": "ipython",
    "version": 3
   },
   "file_extension": ".py",
   "mimetype": "text/x-python",
   "name": "python",
   "nbconvert_exporter": "python",
   "pygments_lexer": "ipython3",
   "version": "3.6.5"
  }
 },
 "nbformat": 4,
 "nbformat_minor": 2
}
