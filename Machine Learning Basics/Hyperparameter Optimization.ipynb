{
 "cells": [
  {
   "cell_type": "markdown",
   "metadata": {},
   "source": [
    "# Hyperparameter Optimization"
   ]
  },
  {
   "cell_type": "markdown",
   "metadata": {},
   "source": [
    "## Cross Validation\n",
    "\n",
    "Utilize a validation set to tune hyperparameters.  \n",
    "\n",
    "![](cross-validation.png)"
   ]
  },
  {
   "cell_type": "markdown",
   "metadata": {},
   "source": [
    "# TODO: Add Tensorflow Example"
   ]
  },
  {
   "cell_type": "markdown",
   "metadata": {},
   "source": [
    "# Random Search vs Grid Search"
   ]
  },
  {
   "cell_type": "markdown",
   "metadata": {},
   "source": [
    "![](search.png)"
   ]
  },
  {
   "cell_type": "code",
   "execution_count": null,
   "metadata": {},
   "outputs": [],
   "source": [
    " Gradient Noise Improves Learning for Very Deep Networks”Arvind Neelakantanet al., 2016\n"
   ]
  },
  {
   "cell_type": "markdown",
   "metadata": {},
   "source": [
    "### Additional Notes"
   ]
  },
  {
   "cell_type": "markdown",
   "metadata": {},
   "source": [
    "### How to make sure points in randomized search are farther apart?\n",
    "\n",
    "**Low-discrepancy sequences**\n",
    "1. Sobol Sequence\n",
    "2. Hammersley Set\n",
    "3. Halton Sequence\n",
    "4. Poisson Disk Sampling\n",
    "\n",
    "**Note the above techniques won't work well in higher dimension**"
   ]
  },
  {
   "cell_type": "markdown",
   "metadata": {},
   "source": [
    "## What to monitor?\n",
    "\n",
    "### Loss Curve\n",
    "\n",
    "![](loss.png)"
   ]
  },
  {
   "cell_type": "markdown",
   "metadata": {},
   "source": [
    "### Per layer activation\n",
    " - Magnitude, center (mean or median), breadth (sdevor quartiles)\n",
    " - Spatial/feature-rank variations\n",
    "\n",
    "### Gradients\n",
    " - Magnitude, center (mean or median), breadth (sdevor quartiles)\n",
    " - Spatial/feature-rank variations\n",
    " \n",
    "### Learning Trajectories\n",
    " - Plot parameter values in a low-dimensional space"
   ]
  },
  {
   "cell_type": "markdown",
   "metadata": {},
   "source": [
    "## Overfitting"
   ]
  },
  {
   "cell_type": "markdown",
   "metadata": {},
   "source": [
    "![](accuracy.png)"
   ]
  },
  {
   "cell_type": "markdown",
   "metadata": {},
   "source": [
    "**Why do we want the ratio of weight update/weight magnitude to be around 1e-3?**"
   ]
  },
  {
   "cell_type": "markdown",
   "metadata": {},
   "source": [
    "### Survey of  Hyperparameter Tuning Methods"
   ]
  },
  {
   "cell_type": "code",
   "execution_count": null,
   "metadata": {},
   "outputs": [],
   "source": [
    "from neupy import algorithms, layers\n",
    "\n",
    "def train_network(n_hidden, x_train, x_test, y_train, y_test):\n",
    "    network = algorithms.Momentum(\n",
    "        [\n",
    "            layers.Input(64),\n",
    "            layers.Relu(n_hidden),\n",
    "            layers.Softmax(10),\n",
    "        ],\n",
    "\n",
    "        # Randomly shuffle dataset before each\n",
    "        # training epoch.\n",
    "        shuffle_data=True,\n",
    "\n",
    "        # Do not show training progress in output\n",
    "        verbose=False,\n",
    "\n",
    "        step=0.001,\n",
    "        batch_size=128,\n",
    "        error='categorical_crossentropy',\n",
    "    )\n",
    "    network.train(x_train, y_train, epochs=100)\n",
    "\n",
    "    # Calculates categorical cross-entropy error between\n",
    "    # predicted value for x_test and y_test value\n",
    "    return network.prediction_error(x_test, y_test)"
   ]
  },
  {
   "cell_type": "code",
   "execution_count": null,
   "metadata": {},
   "outputs": [],
   "source": [
    "import numpy as np\n",
    "from sklearn import datasets\n",
    "from sklearn.model_selection import train_test_split\n",
    "from neupy import environment\n",
    "\n",
    "environment.reproducible()\n",
    "\n",
    "dataset = datasets.load_digits()\n",
    "n_samples = dataset.target.size\n",
    "n_classes = 10\n",
    "\n",
    "# One-hot encoder\n",
    "target = np.zeros((n_samples, n_classes))\n",
    "target[np.arange(n_samples), dataset.target] = 1\n",
    "\n",
    "x_train, x_test, y_train, y_test = train_test_split(\n",
    "    dataset.data, target, train_size=0.7\n",
    ")\n"
   ]
  },
  {
   "cell_type": "code",
   "execution_count": null,
   "metadata": {},
   "outputs": [],
   "source": [
    "import numpy as np\n",
    "from sklearn.gaussian_process import GaussianProcess\n",
    "\n",
    "def vector_2d(array):\n",
    "    return np.array(array).reshape((-1, 1))\n",
    "\n",
    "def gaussian_process(x_train, y_train, x_test):\n",
    "    x_train = vector_2d(x_train)\n",
    "    y_train = vector_2d(y_train)\n",
    "    x_test = vector_2d(x_test)\n",
    "\n",
    "    # Train gaussian process\n",
    "    gp = GaussianProcess(corr='squared_exponential',\n",
    "                         theta0=1e-1, thetaL=1e-3, thetaU=1)\n",
    "    gp.fit(x_train, y_train)\n",
    "\n",
    "    # Get mean and standard deviation for each possible\n",
    "    # number of hidden units\n",
    "    y_mean, y_var = gp.predict(x_test, eval_MSE=True)\n",
    "    y_std = np.sqrt(vector_2d(y_var))\n",
    "\n",
    "    return y_mean, y_std"
   ]
  }
 ],
 "metadata": {
  "kernelspec": {
   "display_name": "Python 3",
   "language": "python",
   "name": "python3"
  },
  "language_info": {
   "codemirror_mode": {
    "name": "ipython",
    "version": 3
   },
   "file_extension": ".py",
   "mimetype": "text/x-python",
   "name": "python",
   "nbconvert_exporter": "python",
   "pygments_lexer": "ipython3",
   "version": "3.6.5"
  }
 },
 "nbformat": 4,
 "nbformat_minor": 2
}
