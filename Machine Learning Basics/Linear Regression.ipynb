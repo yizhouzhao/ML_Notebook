{
 "cells": [
  {
   "cell_type": "markdown",
   "metadata": {},
   "source": [
    "# Linear Regression"
   ]
  },
  {
   "cell_type": "markdown",
   "metadata": {},
   "source": [
    "## Data\n",
    "\n",
    "Since this is linear regression, we will have datapoints with the following format:\n",
    "\n",
    "$$(x_i, y_i) \\in \\mathbb{R} \\times \\mathbb{R}$$"
   ]
  },
  {
   "cell_type": "code",
   "execution_count": 8,
   "metadata": {},
   "outputs": [],
   "source": [
    "import numpy as np\n",
    "import matplotlib.pyplot as plt\n",
    "N = 64 # Sample size\n",
    "a = 2.1\n",
    "b = 0.8"
   ]
  },
  {
   "cell_type": "code",
   "execution_count": 15,
   "metadata": {},
   "outputs": [],
   "source": [
    "x_rand = np.random.rand(N)*20\n",
    "y_rand = np.random.rand(N)*20\n",
    "\n",
    "x = np.arange(-1*N/2, N/2)\n",
    "y = a*x + b\n",
    "\n",
    "x += x_rand\n",
    "y += y_rand"
   ]
  },
  {
   "cell_type": "code",
   "execution_count": 18,
   "metadata": {},
   "outputs": [
    {
     "data": {
      "image/png": "[encoded data removed]",
      "text/plain": [
       "<Figure size 432x288 with 1 Axes>"
      ]
     },
     "metadata": {},
     "output_type": "display_data"
    }
   ],
   "source": [
    "plt.scatter(x, y)\n",
    "plt.title(\"Randomly Generated Linear Data\")\n",
    "plt.show()"
   ]
  },
  {
   "cell_type": "markdown",
   "metadata": {},
   "source": [
    "## Model"
   ]
  },
  {
   "cell_type": "markdown",
   "metadata": {},
   "source": [
    "In linear regression, we would want to create a prediction function in the form of linear function:\n",
    "\n",
    "$$\\hat{y} = f(x) = ax + b$$"
   ]
  },
  {
   "cell_type": "markdown",
   "metadata": {},
   "source": [
    "## Loss Function"
   ]
  },
  {
   "cell_type": "markdown",
   "metadata": {},
   "source": [
    "We will use squared loss\n",
    "\n",
    "$$L_2(\\hat{y}, y) = (\\hat{y} - y)^2$$"
   ]
  },
  {
   "cell_type": "markdown",
   "metadata": {},
   "source": [
    "## Optimization"
   ]
  },
  {
   "cell_type": "markdown",
   "metadata": {},
   "source": [
    "We will minimize the loss function with the following procedure:\n",
    "\n",
    "$$L = \\sum_{i=1}^n(\\hat{y}_i - y_i)^2$$\n",
    "$$  = \\sum_{i=1}^n(ax_i + b - y_i)^2$$\n",
    "\n",
    "$$\\frac{dL}{da} = 0 = 2a \\sum_{i=1}^n x_i^2 + 2b \\sum_{i=1}^n x_i - 2 \\sum_{i=1}^n x_iy_i$$\n",
    "\n",
    "$$\\frac{dL}{db} = 0 = 2a \\sum_{i=1}^n x_i + 2bn  - 2 \\sum_{i=1}^n y_i$$"
   ]
  },
  {
   "cell_type": "markdown",
   "metadata": {},
   "source": [
    "Note $x_i$ and $y_i$ are provided values.  We can solve for $a$ and $b$."
   ]
  },
  {
   "cell_type": "code",
   "execution_count": 22,
   "metadata": {},
   "outputs": [],
   "source": [
    "c11 = np.sum(x**2)\n",
    "c21 = np.sum(x)\n",
    "\n",
    "c12 = np.sum(x)\n",
    "c22 = N\n",
    "\n",
    "y1 = np.sum(x*y)\n",
    "y2 = np.sum(y)\n",
    "\n",
    "# Solving simple matrix\n",
    "a, b = np.linalg.solve(np.matrix([[c11, c21], [c12, c22]]), np.array([y1, y2]))"
   ]
  },
  {
   "cell_type": "code",
   "execution_count": 25,
   "metadata": {},
   "outputs": [
    {
     "data": {
      "image/png": "[encoded data removed]",
      "text/plain": [
       "<Figure size 432x288 with 1 Axes>"
      ]
     },
     "metadata": {},
     "output_type": "display_data"
    }
   ],
   "source": [
    "ax = plt.axes()\n",
    "plt.scatter(x, y)\n",
    "plt.title(\"Randomly Generated Linear Data\")\n",
    "ax.plot(x, a*x + b, color=\"red\")\n",
    "plt.show()\n"
   ]
  },
  {
   "cell_type": "markdown",
   "metadata": {},
   "source": [
    "## Multivariate Linear Regression"
   ]
  },
  {
   "cell_type": "markdown",
   "metadata": {},
   "source": [
    "### Data\n",
    "Let $$(x_i, y_i) \\in \\mathbb{R}^m \\times \\mathbb{R}^k$$"
   ]
  },
  {
   "cell_type": "markdown",
   "metadata": {},
   "source": [
    "### Model\n",
    "\n",
    "The **model** to predict is \n",
    "$$y = Ax$$\n",
    "\n",
    "for $A \\in \\mathbb{R}^{k \\times m}$"
   ]
  },
  {
   "cell_type": "markdown",
   "metadata": {},
   "source": [
    "### Loss Function/Risk Function\n",
    "\n",
    "**Empirical Risk (average loss)** is\n",
    "\n",
    "$$L = \\sum_{i=1}^n(Ax_i - y_i)^2 = \\sum_{i=1}^n(x_i^TA^T - y_i^T)(Ax_i - y_i)$$"
   ]
  },
  {
   "cell_type": "markdown",
   "metadata": {},
   "source": [
    "### Optimization"
   ]
  },
  {
   "cell_type": "markdown",
   "metadata": {},
   "source": [
    "To calculate the derivative (gradient), *check out critical point*\n",
    "\n",
    "$$\\nabla_AL = 2A\\sum_{i=1}^n x_ix_i^T - 2 \\sum_{i=1}^n y_ix_i^T = 0$$\n",
    "\n",
    "So, we will solve\n",
    "$$A = M_{yx}M_{xx}^{-1}$$\n",
    "\n",
    "where $M_{xx} = \\sum_{i=1}^nx_ix_i^T$ and $M_{yx} = \\sum_{i=1}^ny_ix_i^T$"
   ]
  },
  {
   "cell_type": "markdown",
   "metadata": {},
   "source": [
    "#### Aside:  Moments\n",
    "\n",
    "We can set $M_{xx} = \\frac{1}{n}\\sum_{i=1}^nx_ix_i^T$ and $M_{yx} =  \\frac{1}{n} \\sum_{i=1}^ny_ix_i^T$\n",
    "\n",
    "These are called **sample moments**, and they converge to true moments\n",
    "\n",
    "$$M_{xx} \\rightarrow \\mu_{xx} = \\mathbb{E}[xx^T]$$\n",
    "$$M_{yx} \\rightarrow \\mu_{yx} = \\mathbb{E}[yx^T]$$\n",
    "\n",
    "So, in this case:  **empirical risk-minimizing model** $A = M_{yx}M_{xx}^{-1}$ converges to the **true risk minimizing model** $A_0 = \\mu_{yx}\\mu_{xx}^{-1}$"
   ]
  }
 ],
 "metadata": {
  "kernelspec": {
   "display_name": "Python 3",
   "language": "python",
   "name": "python3"
  },
  "language_info": {
   "codemirror_mode": {
    "name": "ipython",
    "version": 3
   },
   "file_extension": ".py",
   "mimetype": "text/x-python",
   "name": "python",
   "nbconvert_exporter": "python",
   "pygments_lexer": "ipython3",
   "version": "3.6.5"
  }
 },
 "nbformat": 4,
 "nbformat_minor": 2
}
