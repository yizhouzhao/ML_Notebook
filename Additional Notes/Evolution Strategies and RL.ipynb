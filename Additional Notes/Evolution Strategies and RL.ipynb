{
 "cells": [
  {
   "cell_type": "markdown",
   "metadata": {},
   "source": [
    "# Evolution Strategies and RL"
   ]
  },
  {
   "cell_type": "markdown",
   "metadata": {},
   "source": [
    "## Evolution Strategies"
   ]
  },
  {
   "cell_type": "markdown",
   "metadata": {},
   "source": [
    "Blackbox of Evolution Strategies:\n",
    "1. Input:  10000 settings\n",
    "2. Output:  1 optimal setting\n",
    "\n",
    "### Process\n",
    "1. Start with random parameter, $w \\in \\mathbb{R}^M$, $M$ is number of candidates\n",
    "2. Tweek the guess randomly, $w \\mathrel{+}= \\{w' \\sim \\mathcal{N}(\n",
    "\\mu, \\sigma)\\}^M$\n",
    "3. move guess towards whatever tweaks work better, find the reward given the $M$ settings.\n",
    "4. update vector is the weighted sum of the 1000 vectors (think attention on candidates)\n"
   ]
  },
  {
   "cell_type": "code",
   "execution_count": 1,
   "metadata": {},
   "outputs": [],
   "source": [
    "#simple example: minimize a quadratic around some solution point\n",
    "import numpy as np\n",
    "import matplotlib.pyplot as plt\n",
    "solution = np.array([0.5, 0.1, -0.3])\n",
    "def f(w): \n",
    "    return -np.sum((w - solution)**2)\n",
    "\n",
    "params=dict(npop = 50,sigma = 0.1, alpha = 0.001, num_iter=300)\n",
    "def train_es(params):\n",
    "    npop = params[\"npop\"]\n",
    "    sigma = params[\"sigma\"]\n",
    "    alpha = params[\"alpha\"]\n",
    "    num_iter = params[\"num_iter\"]\n",
    "    w = np.random.randn(3) # initial guess\n",
    "    for i in range(num_iter):\n",
    "        N = np.random.randn(npop, 3) #New Guess for N candidates\n",
    "        R = np.zeros(npop)\n",
    "        for j in range(npop):\n",
    "            w_try = w + sigma*N[j] # Attempt\n",
    "            R[j] = f(w_try) # Output Rewards\n",
    "        A = (R - np.mean(R)) / np.std(R) #Normalize Rewards\n",
    "        w = w + alpha/(npop*sigma) * np.dot(N.T, A) # Update Function\n",
    "    return w"
   ]
  },
  {
   "cell_type": "code",
   "execution_count": 3,
   "metadata": {},
   "outputs": [],
   "source": [
    "def evaluation(w, w_guess):\n",
    "    return np.linalg.norm(w - w_guess)\n",
    "\n",
    "# print(evaluation(solution, w))"
   ]
  },
  {
   "cell_type": "code",
   "execution_count": 4,
   "metadata": {},
   "outputs": [],
   "source": [
    "def compare_hyper(param_key, param_range, params):\n",
    "    errors = []\n",
    "    for r in param_range:\n",
    "        params[param_key] = r\n",
    "        w = train_es(params)\n",
    "        e = evaluation(solution, w)\n",
    "        errors.append(e)\n",
    "    plt.title(param_key + \" vs l2 error \")\n",
    "    plt.xlabel = param_key\n",
    "    plt.ylabel = \"l2 error\"\n",
    "    plt.plot(param_range, errors)\n",
    "    plt.plot()\n",
    "    print(np.argmin(errors))\n",
    "    \n",
    "    "
   ]
  },
  {
   "cell_type": "markdown",
   "metadata": {},
   "source": [
    "#### Population Size\n"
   ]
  },
  {
   "cell_type": "code",
   "execution_count": 5,
   "metadata": {},
   "outputs": [
    {
     "name": "stdout",
     "output_type": "stream",
     "text": [
      "3\n"
     ]
    },
    {
     "data": {
      "image/png": "[encoded data removed]",
      "text/plain": [
       "<Figure size 432x288 with 1 Axes>"
      ]
     },
     "metadata": {},
     "output_type": "display_data"
    }
   ],
   "source": [
    "pop_size = 10**np.arange(1, 5)\n",
    "compare_hyper(\"npop\", pop_size, params)"
   ]
  },
  {
   "cell_type": "markdown",
   "metadata": {},
   "source": [
    "### Num Iter"
   ]
  },
  {
   "cell_type": "code",
   "execution_count": 6,
   "metadata": {},
   "outputs": [
    {
     "name": "stdout",
     "output_type": "stream",
     "text": [
      "2\n"
     ]
    },
    {
     "data": {
      "image/png": "[encoded data removed]",
      "text/plain": [
       "<Figure size 432x288 with 1 Axes>"
      ]
     },
     "metadata": {},
     "output_type": "display_data"
    }
   ],
   "source": [
    "num_iter = 10**np.arange(1, 4)\n",
    "compare_hyper(\"num_iter\", pop_size, params)"
   ]
  },
  {
   "cell_type": "markdown",
   "metadata": {},
   "source": [
    "### Tradeoffs between ES and RL"
   ]
  },
  {
   "cell_type": "markdown",
   "metadata": {},
   "source": [
    "#### Advantages\n",
    "1. No need for backpropogation\n",
    "2. Highly parallelizable\n",
    "3. Robustness in frame skip parameters (and other hyperparameters too, not sure where?)\n",
    "4. Structured exploration; (no random jitters)\n",
    "5. Credit assignment over long term scales"
   ]
  },
  {
   "cell_type": "markdown",
   "metadata": {},
   "source": [
    "### Montezula's Revenge"
   ]
  }
 ],
 "metadata": {
  "kernelspec": {
   "display_name": "Python 3",
   "language": "python",
   "name": "python3"
  },
  "language_info": {
   "codemirror_mode": {
    "name": "ipython",
    "version": 3
   },
   "file_extension": ".py",
   "mimetype": "text/x-python",
   "name": "python",
   "nbconvert_exporter": "python",
   "pygments_lexer": "ipython3",
   "version": "3.6.5"
  }
 },
 "nbformat": 4,
 "nbformat_minor": 2
}
