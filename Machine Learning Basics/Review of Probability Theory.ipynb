{
 "cells": [
  {
   "cell_type": "markdown",
   "metadata": {},
   "source": [
    "# Review of Probability Theory\n",
    "\n",
    "## Elements of Probability\n",
    "\n",
    "### Definition\n",
    "\n",
    "- **Sample space:**  The set of all outcomes of a random experiment.  Each outcome can be thought of as a complete description of the state of the real world at the end of the experiment\n",
    "- **Set of events:** A set whose elements are subsets of Sample space\n",
    "- **Probability measure:**  A function that satisfies the following properties\n",
    "  - $P(A) \\geq 0$, for all $A$\n",
    "  - $P(S) = 1$\n",
    "  - The sum of probability of disjoint events equals to probability of union of events"
   ]
  }
 ],
 "metadata": {
  "kernelspec": {
   "display_name": "Python 3",
   "language": "python",
   "name": "python3"
  },
  "language_info": {
   "codemirror_mode": {
    "name": "ipython",
    "version": 3
   },
   "file_extension": ".py",
   "mimetype": "text/x-python",
   "name": "python",
   "nbconvert_exporter": "python",
   "pygments_lexer": "ipython3",
   "version": "3.6.5"
  }
 },
 "nbformat": 4,
 "nbformat_minor": 2
}
