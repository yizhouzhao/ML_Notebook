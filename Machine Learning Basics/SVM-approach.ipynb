{
 "cells": [
  {
   "cell_type": "code",
   "execution_count": 12,
   "metadata": {
    "collapsed": true
   },
   "outputs": [],
   "source": [
    "import pandas as pd\n",
    "import os\n",
    "import matplotlib \n",
    "from sklearn.model_selection import train_test_split\n",
    "#Sometimes, pyplot doesn't work if you don't import matplotlib\n",
    "import matplotlib.pyplot as plt, matplotlib.image as mpimg"
   ]
  },
  {
   "cell_type": "markdown",
   "metadata": {},
   "source": [
    "# Background on SVM"
   ]
  },
  {
   "cell_type": "markdown",
   "metadata": {},
   "source": [
    "> Based on UC Berkeley Machine Learning Course"
   ]
  },
  {
   "cell_type": "markdown",
   "metadata": {},
   "source": [
    "### Example Dataset:  MNIST\n",
    "\n",
    "Given a set of images, each image is a handwritten number from 0 to 9, the goal is to categorize each image into 10 bins, each corresponding to a digit.\n",
    "\n"
   ]
  },
  {
   "cell_type": "markdown",
   "metadata": {},
   "source": [
    "#### Loading the Data\n",
    "\n",
    "We use panda's read_csv to read train.csv into a [dataframe](https://pandas.pydata.org/pandas-docs/stable/generated/pandas.DataFrame.html).\n"
   ]
  },
  {
   "cell_type": "code",
   "execution_count": 9,
   "metadata": {},
   "outputs": [],
   "source": [
    "train_set_location = os.path.join(os.getcwd(), \\\n",
    "                                   \"data\", \"train.csv\")\n",
    "test_set_location = os.path.join(os.getcwd(), \\\n",
    "                                 \"data\", \"test.csv\")"
   ]
  },
  {
   "cell_type": "markdown",
   "metadata": {},
   "source": [
    "At this point, we are loading csv file into a panda dataframe.  The first column of csv file is label and the rest of the columns represent the pixels of that image.\n",
    "\n",
    "Note [0:5000] is for getting the first 5000 rows and [1:] is getting all the column values other than first column.\n",
    "\n",
    "We then apply provided function to separate the two csv into separate frames: train images, train_labels, test_images, test_labels."
   ]
  },
  {
   "cell_type": "code",
   "execution_count": 14,
   "metadata": {},
   "outputs": [
    {
     "name": "stderr",
     "output_type": "stream",
     "text": [
      "/home/karen/anaconda3/envs/MNIST/lib/python3.5/site-packages/sklearn/model_selection/_split.py:2010: FutureWarning: From version 0.21, test_size will always complement train_size unless both are specified.\n",
      "  FutureWarning)\n"
     ]
    }
   ],
   "source": [
    "labeled_images = pd.read_csv(train_set_location)\n",
    "images = labeled_images.iloc[0:5000, 1:]\n",
    "labels = labeled_images.iloc[0:5000,:1]\n",
    "train_images, test_images,train_labels, test_labels \\\n",
    "    = train_test_split(images, labels, train_size=0.8, \\\n",
    "                       random_state=0)"
   ]
  },
  {
   "cell_type": "markdown",
   "metadata": {},
   "source": [
    "#### Viewing the Image\n",
    "- To view this image in matplotlib, we need to [reshape](https://docs.scipy.org/doc/numpy-1.13.0/reference/generated/numpy.reshape.html) into a $28 \\times 28$ matrix.\n",
    "- Note there are 784 columns representing the pixels"
   ]
  },
  {
   "cell_type": "code",
   "execution_count": 21,
   "metadata": {},
   "outputs": [
    {
     "name": "stdout",
     "output_type": "stream",
     "text": [
      "Note the dimension of each image is (784,)\n"
     ]
    },
    {
     "data": {
      "image/png": "[encoded data removed]",
      "text/plain": [
       "<matplotlib.figure.Figure at 0x7f60cbe88668>"
      ]
     },
     "metadata": {},
     "output_type": "display_data"
    },
    {
     "data": {
      "text/plain": [
       "<matplotlib.text.Text at 0x7f60d34bbb70>"
      ]
     },
     "execution_count": 21,
     "metadata": {},
     "output_type": "execute_result"
    }
   ],
   "source": [
    "image_index = 0 # We will read the 0th data entry\n",
    "img = train_images.iloc[image_index].as_matrix()\n",
    "\n",
    "print(\"Note the dimension of each image is \" + str(img.shape))\n",
    "\n",
    "# We will reshape img into 28 x 28 matrix\n",
    "img = img.reshape((28, 28))\n",
    "\n",
    "# Showing the image\n",
    "plt.imshow(img, cmap='gray') \n",
    "plt.show()\n",
    "plt.title(train_labels.iloc[image_index, 0])"
   ]
  },
  {
   "cell_type": "markdown",
   "metadata": {},
   "source": [
    "### So, what is the work flow?\n",
    "A typical ML program involves two functions: \n",
    "- train(train_dataset, train_label)\n",
    "- predict(test_dataset, learned_parameter)\n",
    "\n",
    "Train will take train_dataset, train_label and return a decision mechanism (usually an array of parameters).  So with the prediction fuction, given a test_dataset, it will return the labels.  \n",
    "\n",
    "Finally, we will compare the returned label with test label to calculate the frequency of correct labels."
   ]
  },
  {
   "cell_type": "markdown",
   "metadata": {},
   "source": [
    "## The Math behind SVM\n",
    "\n",
    "### Problem Premise\n",
    "\n",
    "Support vector machine is a supervised model that is designed to solve **classification problems.**  Generally, the dataset is in the following form:\n",
    "\n",
    "$$(x_i, y_i) \\text{ where } x_i \\in \\mathbb{R}^m, y_i \\in \\mathbb{R}^{k}$$\n",
    "\n",
    "where *m*  is the number of features and *k* is the number of resulting classes.\n",
    "\n"
   ]
  },
  {
   "cell_type": "markdown",
   "metadata": {},
   "source": [
    "\n",
    "#### Using Hyperplane as a classifier\n",
    "\n",
    "From the previous section, we know that each image can be represented as a vector $v \\in \\mathbb{R}^m$, where $m$ in this case is $784$.\n",
    "\n",
    "Hence we can represent $v$ as a point in $m$ dimensional space.  (i.e. Note how $(1, 1) \\in \\mathbb{R}^2$ represents a point on a 2 dimensional cartesian plan.)\n",
    "\n",
    "In this problem, we need to classify the images into 10 categories.  Let's first consider a simpler problem, in which we only need to separate the images into two categories: $0$ or not $0$.\n",
    "\n",
    "Since every image can be represented as a $m$ dimensional point, one intuitional classifier is to draw a \"line\" in the vector space $\\mathbb{R}^{m}$, such that every value above $v$ will be classified as $0$ and every value below $v$ will be classified as not $0$.  Such \"line\" is a hyperplane with dimension $n-1$.\n",
    "\n",
    "In two-dimensional case, the \"line\" can be represented as :\n",
    "\n",
    "![svc](svc.png)\n",
    "\n",
    "From linear algebra, a hyperplane of $m-1$ dimension in $m$ dimensional vector space can be represented as\n",
    "\n",
    "$$\\{x \\in \\mathbb{R}^m | c^Tx + b = 0 \\}$$\n",
    "where $b$ is plane's translation from the origin and $c$ is the vector perpendicular to that hyperplane.\n",
    "\n",
    "\n",
    "*Prove that $x' \\in \\mathbb{R}$ is \"above\" the hyperplane, iff $c^Tx + b > 0$*.\n",
    "\n",
    "*Above means point is to the right and above of all points on the plane*\n",
    "\n",
    "\n"
   ]
  },
  {
   "cell_type": "markdown",
   "metadata": {},
   "source": [
    "Since $x' \\in \\mathbb{R}$ is \"above\" the hyperplane, iff $c^Tx + b > 0$ and is \"under\" the hyperplane, iff $c^Tx + b < 0$.  We have a crude classifier.\n",
    "\n"
   ]
  },
  {
   "cell_type": "markdown",
   "metadata": {},
   "source": [
    "### How do we know if the classifier is a good classifier?\n",
    "\n",
    "The objective of a good classifier is simple:  correct and efficient.  At this point, we will focus on the correctness of the classifier.\n",
    "\n",
    "Built on top of our crude classifier we will define the following prediction function.\n",
    "\n",
    "```python\n",
    "\n",
    "pred(x):\n",
    "   if c^Tx + b > 0:\n",
    "       return 1\n",
    "    return -1\n",
    "```\n",
    "\n"
   ]
  },
  {
   "cell_type": "markdown",
   "metadata": {},
   "source": [
    "### Margins\n",
    "\n",
    "**Margins** is the distance between the closest data point and the hyperplane.  \n",
    "\n",
    "The **Loss Function** of Support Vector Machine aims to maximize the correctness of classification and maximize the margin.  \n",
    "\n",
    "### Hinge Loss\n",
    "\n",
    "We will define **Hinge Loss** as \n",
    "\n",
    "$$\\max(0, 1 - yf(x))$$\n",
    "\n",
    "given $f(x)$ is $pred(x)$ for the SVM prediction function.  This will ensure mislabeled value to receive a positive loss.  \n",
    "\n",
    "\n",
    "For general case, our loss function will be \n",
    "\n",
    "$$L = \\sum_{i=1}^n \\max(0, 1 - y_if(x_i))$$\n",
    "\n",
    "given n points.  "
   ]
  },
  {
   "cell_type": "markdown",
   "metadata": {},
   "source": [
    "$$ \\newcommand{\\norm}[1]{\\left\\lVert#1\\right\\rVert} $$\n",
    "\n",
    "We assumed so far that $f(x) = c^Tx + b$ with $\\norm{c}_2 = 1$.  Note on the same plane, larger $c$ value will force small $x$ in order to keep $1 - y_if(x_i)$ to be small. Hence, smaller $c$ will have a much larger room for errors. (What happens if $y_i = 1$ and $f(x_i) = -10$ vs $f(x_i) = -1$ and Adding a regularization term $\\lambda \\norm{c}^2$ will allow the classifier to be more lenient.  This is **Soft margin SVM**."
   ]
  },
  {
   "cell_type": "markdown",
   "metadata": {},
   "source": [
    "#### Training using sckitlearn"
   ]
  },
  {
   "cell_type": "code",
   "execution_count": 22,
   "metadata": {
    "collapsed": true
   },
   "outputs": [],
   "source": [
    "from sklearn import svm\n",
    "%matplotlib inline"
   ]
  },
  {
   "cell_type": "code",
   "execution_count": 24,
   "metadata": {},
   "outputs": [
    {
     "data": {
      "text/plain": [
       "0.10000000000000001"
      ]
     },
     "execution_count": 24,
     "metadata": {},
     "output_type": "execute_result"
    }
   ],
   "source": [
    "clf = svm.SVC()\n",
    "clf.fit(train_images, train_labels.values.ravel())\n",
    "clf.score(test_images, test_labels)"
   ]
  },
  {
   "cell_type": "code",
   "execution_count": 27,
   "metadata": {},
   "outputs": [
    {
     "name": "stderr",
     "output_type": "stream",
     "text": [
      "/home/karen/anaconda3/envs/MNIST/lib/python3.5/site-packages/ipykernel/__main__.py:2: SettingWithCopyWarning: \n",
      "A value is trying to be set on a copy of a slice from a DataFrame.\n",
      "Try using .loc[row_indexer,col_indexer] = value instead\n",
      "\n",
      "See the caveats in the documentation: http://pandas.pydata.org/pandas-docs/stable/indexing.html#indexing-view-versus-copy\n",
      "  from ipykernel import kernelapp as app\n",
      "/home/karen/anaconda3/envs/MNIST/lib/python3.5/site-packages/pandas/core/frame.py:2366: SettingWithCopyWarning: \n",
      "A value is trying to be set on a copy of a slice from a DataFrame\n",
      "\n",
      "See the caveats in the documentation: http://pandas.pydata.org/pandas-docs/stable/indexing.html#indexing-view-versus-copy\n",
      "  self._where(-key, value, inplace=True)\n",
      "/home/karen/anaconda3/envs/MNIST/lib/python3.5/site-packages/ipykernel/__main__.py:3: SettingWithCopyWarning: \n",
      "A value is trying to be set on a copy of a slice from a DataFrame.\n",
      "Try using .loc[row_indexer,col_indexer] = value instead\n",
      "\n",
      "See the caveats in the documentation: http://pandas.pydata.org/pandas-docs/stable/indexing.html#indexing-view-versus-copy\n",
      "  app.launch_new_instance()\n"
     ]
    },
    {
     "data": {
      "text/plain": [
       "<matplotlib.text.Text at 0x7f60c2456d30>"
      ]
     },
     "execution_count": 27,
     "metadata": {},
     "output_type": "execute_result"
    },
    {
     "data": {
      "image/png": "[encoded data removed]",
      "text/plain": [
       "<matplotlib.figure.Figure at 0x7f60d35376a0>"
      ]
     },
     "metadata": {},
     "output_type": "display_data"
    }
   ],
   "source": [
    "i=0\n",
    "test_images[test_images>0]=1\n",
    "train_images[train_images>0]=1\n",
    "\n",
    "img=train_images.iloc[i].as_matrix().reshape((28,28))\n",
    "plt.imshow(img,cmap='binary')\n",
    "plt.title(train_labels.iloc[i])"
   ]
  },
  {
   "cell_type": "code",
   "execution_count": 28,
   "metadata": {},
   "outputs": [
    {
     "data": {
      "text/plain": [
       "0.88700000000000001"
      ]
     },
     "execution_count": 28,
     "metadata": {},
     "output_type": "execute_result"
    }
   ],
   "source": [
    "clf = svm.SVC()\n",
    "clf.fit(train_images, train_labels.values.ravel())\n",
    "clf.score(test_images,test_labels)\n",
    "\n"
   ]
  },
  {
   "cell_type": "code",
   "execution_count": 30,
   "metadata": {},
   "outputs": [],
   "source": [
    "test_data=pd.read_csv(test_set_location)\n",
    "test_data[test_data>0]=1\n",
    "results=clf.predict(test_data[0:5000])\n",
    "\n"
   ]
  },
  {
   "cell_type": "markdown",
   "metadata": {},
   "source": [
    "### Interesting Questions:\n",
    "\n",
    "- Why is large margin better than smaller?\n",
    "    - large margin is more likely to correctly classify new data\n",
    "    - think margin as confidence (can we treat margin as confidence in a statistical setting?), when a new point comes, (assume it is close to the points of same category), it is less likely to be misclassified\n",
    "    - "
   ]
  },
  {
   "cell_type": "markdown",
   "metadata": {},
   "source": [
    "## Multiclass SVM"
   ]
  },
  {
   "cell_type": "markdown",
   "metadata": {},
   "source": [
    "### One vs Rest\n",
    "$$\\DeclareMathOperator*{\\argmax}{arg\\,max}$$\n",
    "For $k$ classes, we construct $k$ functions $f_i(x)$ for $i = 1, \\cdots, k$, designed to estimate the probability for $x$ is in class $i$.\n",
    "\n",
    "We train $f_i(x)$ with labeled data:  $y = 1$ if $x \\in C$ and $y = 0$ if $x$ is in any other class.  The predicted class label for $x$ is\n",
    "\n",
    "$$\\argmax_i f_i(x)$$\n",
    "\n",
    "#### Margin in One vs Rest\n",
    "\n",
    "In multiclass case, **margin** is defined as \n",
    "\n",
    "$$f_y(x) - f_j(x) \\geq 1$$\n",
    "\n",
    "where $y$ is the correct label class corresponding to $x$, and $j$ is any other class\n",
    "\n",
    "So, loss is defined as \n",
    "$$\\max(0, 1 - (f_y(x) - f_j(x)))$$\n",
    "\n",
    "for one case, the total loss is\n",
    "\n",
    "$$l = \\sum_{j \\neq y} \\max\\big(0, 1 - f_y(x) + f_j(x)\\big)$$\n",
    "### One vs One\n",
    "\n",
    "For $k$ classes, we construct $\\binom{k}{2}$ functions $f_{ij}(x)$ with $i < j \\in \\{1, \\cdots, k\\}$  Each $f_{i,j}(x)$ is a binary classifier for class $i$ and class $j$, and is trianedon those classes.  For a new instance $x$, tally the vote from all $\\binom{k}{2}$ classifiers.  Outputs the class with highest votes.\n",
    "\n"
   ]
  }
 ],
 "metadata": {
  "kernelspec": {
   "display_name": "Python 3",
   "language": "python",
   "name": "python3"
  },
  "language_info": {
   "codemirror_mode": {
    "name": "ipython",
    "version": 3
   },
   "file_extension": ".py",
   "mimetype": "text/x-python",
   "name": "python",
   "nbconvert_exporter": "python",
   "pygments_lexer": "ipython3",
   "version": "3.6.4"
  }
 },
 "nbformat": 4,
 "nbformat_minor": 2
}
