{
 "cells": [
  {
   "cell_type": "markdown",
   "metadata": {},
   "source": [
    "# GAN Paper"
   ]
  },
  {
   "cell_type": "markdown",
   "metadata": {},
   "source": [
    "## Overview"
   ]
  },
  {
   "cell_type": "markdown",
   "metadata": {},
   "source": [
    "### Loss Functions\n",
    "\n",
    "Let $P \\sim \\text{true distribution }$ and $Q \\sim \\text{model distribution }$. \n",
    "\n",
    "#### minmax GAN loss function\n",
    "\n",
    "- similar to minimizing the Jensen-Shannon (JS) divergence between $P$ and $Q$\n",
    "\n",
    "#### Non-saturating (NS) GAN\n",
    "\n",
    "- maximizes the probability of generated samples being real\n",
    "\n",
    "$$\\mathcal{L}_{\\mathcal{D}} = - \\mathbb{E}_{x \\sim P}[\\log(D(x))] - \\mathbb{E}_{\\hat{x} \\sim Q}[\\log(1 - D(\\hat{x}))]$$\n",
    "\n",
    "$$\\mathcal{L}_{G} = - \\mathbb{E}_{\\hat{x} \\sim Q}[\\log (D(\\hat{x}))]$$"
   ]
  },
  {
   "cell_type": "markdown",
   "metadata": {},
   "source": [
    "### Wasserstein GAN:\n",
    "\n",
    "1. Minimize the Wasserstein distance between P and Q\n",
    "2. 1-Lipschitz discrminator\n",
    "3. Kantorovich-Rubenstein duality\n",
    "\n",
    "$$\\mathcal{L}_D = - \\mathbb{E}_{x \\sim P}[D(x)] + E_{\\hat{x} \\sim Q}[D(\\hat{x})]$$\n",
    "$$\\mathcal{L}_G = - \\mathbb{E}_{\\hat{x} \\sim Q}[D(\\hat{x})]$$\n",
    "\n",
    "Consider least-squares loss (LS) which corresponds to minimizing the Pearson $\\chi^2$ divergence between $P$ and $Q$.\n",
    "\n",
    "$$\\mathcal{L}_D = -\\mathbb{E}_{x \\sim P}[(D(x) - 1)^2] + \\mathbb{E}_{\\hat{x} \\sim Q}[D(\\hat{x})^2]$$\n",
    "\n",
    "$$\\mathcal{L}_G = - \\mathbb{E}_{\\hat{x} \\sim Q}[(D(\\hat{x}) - 1)^2]$$"
   ]
  },
  {
   "cell_type": "markdown",
   "metadata": {},
   "source": [
    "## Regularization "
   ]
  },
  {
   "cell_type": "markdown",
   "metadata": {},
   "source": [
    "#### Gradient Norm Penalty\n",
    "\n",
    "\n",
    "\n",
    "#### Discriminator Normalization"
   ]
  },
  {
   "cell_type": "markdown",
   "metadata": {},
   "source": [
    "### Generator and Discriminator Architecture"
   ]
  },
  {
   "cell_type": "markdown",
   "metadata": {},
   "source": [
    "1. **Deep Convolutional Generative Adversarial Networks**\n",
    "2. **SNDCGAN**: DCGAN with spectral normalization"
   ]
  }
 ],
 "metadata": {
  "kernelspec": {
   "display_name": "Python 3",
   "language": "python",
   "name": "python3"
  },
  "language_info": {
   "codemirror_mode": {
    "name": "ipython",
    "version": 3
   },
   "file_extension": ".py",
   "mimetype": "text/x-python",
   "name": "python",
   "nbconvert_exporter": "python",
   "pygments_lexer": "ipython3",
   "version": "3.6.5"
  }
 },
 "nbformat": 4,
 "nbformat_minor": 2
}
