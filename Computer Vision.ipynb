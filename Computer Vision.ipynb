{
 "cells": [
  {
   "cell_type": "markdown",
   "metadata": {},
   "source": [
    "# Computer Vision History\n",
    "\n",
    "[checked]"
   ]
  },
  {
   "cell_type": "markdown",
   "metadata": {},
   "source": [
    "### David Marr's Approach 1970-80\n",
    "- Structurally Driven\n",
    "- Use Algorithm to extract edge, create layered 2 1/2 -D sketch to build 3D Model\n",
    "\n",
    "![](marr1.png)"
   ]
  },
  {
   "cell_type": "markdown",
   "metadata": {},
   "source": [
    "### Skeletons and Cylinders 1971\n",
    "- Given an image, simplify the structure by using a series of cylinders\n",
    "- Tom Binford\n",
    "- Structured Approach, analyze every image for predefined structures\n",
    "\n",
    "![](marr2.png)"
   ]
  },
  {
   "cell_type": "markdown",
   "metadata": {},
   "source": [
    "### ACRONYM\n",
    "![](acron.png)"
   ]
  },
  {
   "cell_type": "markdown",
   "metadata": {},
   "source": [
    "### Eigenfaces\n",
    "\n",
    "[eigenfaces implementation](eigenfaces/Tutorial in OpenCV-Eigenfaces.ipynb)\n",
    "\n",
    "![](eigenface.png)\n",
    "- A data driven approach\n",
    "- Given a set of face image, we will use PCA to extract vectors that \"best represent\" the face.  We can use these vectors to either generate or predict face."
   ]
  },
  {
   "cell_type": "markdown",
   "metadata": {},
   "source": [
    "### SIFT\n",
    "\n",
    "TODO: Notes on SIFT\n",
    "- SIFT is used to represent invariant feature. These features include orientation of image objct.\n",
    "\n",
    "![](sift.png)"
   ]
  },
  {
   "cell_type": "markdown",
   "metadata": {},
   "source": [
    "### Bag of Words\n",
    "\n",
    "![](BoW.png)\n",
    "\n",
    "Use Bag of Words technique to extract information in image.  (Similar to SIFT)"
   ]
  },
  {
   "cell_type": "markdown",
   "metadata": {},
   "source": [
    "### HOG 2005\n",
    "![](HOG.png)\n",
    "\n",
    "TODO: Notes for HOG"
   ]
  },
  {
   "cell_type": "markdown",
   "metadata": {},
   "source": [
    "### PASCAL\n",
    "\n",
    "[Link to PASCAL Dataset Generator](TODO)"
   ]
  },
  {
   "cell_type": "markdown",
   "metadata": {},
   "source": [
    "### ImageNet\n",
    "[Link to ImageNet Dataset Generator](TODO)\n",
    "\n",
    "Problems and Challenges\n",
    "\n",
    "- Each image is represented as set of pixels (integer between 0 and 255), what is the semantics behind this?\n",
    "- Same item but have different orientation\n",
    "- Illumination: different lighting give same object different color\n",
    "- Occlusion\n",
    "- Background Clutter\n",
    "- Intraclass Variation\n",
    "- Deformation"
   ]
  }
 ],
 "metadata": {
  "kernelspec": {
   "display_name": "Python 3",
   "language": "python",
   "name": "python3"
  },
  "language_info": {
   "codemirror_mode": {
    "name": "ipython",
    "version": 3
   },
   "file_extension": ".py",
   "mimetype": "text/x-python",
   "name": "python",
   "nbconvert_exporter": "python",
   "pygments_lexer": "ipython3",
   "version": "3.6.4"
  }
 },
 "nbformat": 4,
 "nbformat_minor": 2
}
