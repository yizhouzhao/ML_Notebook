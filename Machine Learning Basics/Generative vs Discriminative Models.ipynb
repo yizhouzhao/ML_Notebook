{
 "cells": [
  {
   "cell_type": "markdown",
   "metadata": {},
   "source": [
    "# Generative vs Discriminative Models\n",
    "\n",
    "A **Generative Model** computes the fully joint data distribution *P(X, Y),* which allows the model to generate new data pairs\n",
    "\n",
    "## Binary Classification Task\n",
    "\n",
    "Given a n-dimensional input space, where we have assumed binary inputs for simplicity:\n",
    "\n",
    "$$\\mathcal{X} = \\{0, 1\\}^n,  \\ \\ \\ \\mathcal{Y} = \\{T, F\\}$$\n",
    "\n",
    "and let\n",
    "\n",
    "$$D \\in \\{\\mathcal{X} \\times \\mathcal{Y}\\}$$\n",
    "\n",
    "where we will be deriving training set:\n",
    "\n",
    "$$\\mathcal{S} = \\{x^{(i)}, y^{(i)}\\}_{i = 1}^m$$\n",
    "\n",
    "Generative naive Bayes uses *S* to calculate the estimated statistic:\n",
    "\n",
    "$$\\hat{p}(x_i | y) \\text{ and  } \\hat{p}(y)$$\n",
    "\n",
    "which we can apply Baye's rule to model *P(x, y)*.\n",
    "\n",
    "## Naive Bayes to Gaussian Discriminant Analysis to Logistic Regression\n",
    "\n",
    "[](./-84f56ddf-cdfa-4bcf-a356-75adbdea1095.md)"
   ]
  }
 ],
 "metadata": {
  "kernelspec": {
   "display_name": "Python 3",
   "language": "python",
   "name": "python3"
  },
  "language_info": {
   "codemirror_mode": {
    "name": "ipython",
    "version": 3
   },
   "file_extension": ".py",
   "mimetype": "text/x-python",
   "name": "python",
   "nbconvert_exporter": "python",
   "pygments_lexer": "ipython3",
   "version": "3.6.5"
  }
 },
 "nbformat": 4,
 "nbformat_minor": 2
}
