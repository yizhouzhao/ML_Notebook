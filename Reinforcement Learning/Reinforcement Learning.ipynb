{
 "cells": [
  {
   "cell_type": "markdown",
   "metadata": {},
   "source": [
    "# Reinforcement Learning"
   ]
  },
  {
   "cell_type": "markdown",
   "metadata": {},
   "source": [
    "### Overview\n",
    "\n",
    "#### What is the defining trait of Reinforment Learning?\n",
    "- There exists a loop in which the **agent** will receive feedback from the **environment**\n",
    "\n",
    "#### How do we formulate this feedback loop?\n",
    "We will define $x_t$ as the state of environment at time $t$.  (i.e. $x_t$ can be defined as a vector which each entry defines the *temperature*, *luminocity*...)\n",
    "\n",
    "However, an agent may not receive the entire $x_t$.  (A temperature gauge cannot take picture...), we will define $o_t$, which is the observation the agent makes.\n",
    "\n",
    "$u_t$ is the action agent will take at time $t$.\n",
    "\n",
    "Our goal is to learn **policy**, $\\pi_{\\theta}(u_t | o_t)$, which defines which action agent needs to take given an observati\n",
    "\n",
    "#### More specific definition of policy...\n",
    "\n",
    "**Behavior Policy**: $\\pi_{\\theta}(u | o)$ is the policy agent uses to act in the world\n",
    "\n",
    "**Target Policy**: $\\pi_{\\theta^t}^t(u | o) $ is the policy agent is learning"
   ]
  },
  {
   "cell_type": "markdown",
   "metadata": {},
   "source": [
    "### DAGGER:\n",
    "\n",
    "What is"
   ]
  }
 ],
 "metadata": {
  "kernelspec": {
   "display_name": "Python 3",
   "language": "python",
   "name": "python3"
  },
  "language_info": {
   "codemirror_mode": {
    "name": "ipython",
    "version": 3
   },
   "file_extension": ".py",
   "mimetype": "text/x-python",
   "name": "python",
   "nbconvert_exporter": "python",
   "pygments_lexer": "ipython3",
   "version": "3.6.5"
  }
 },
 "nbformat": 4,
 "nbformat_minor": 2
}
