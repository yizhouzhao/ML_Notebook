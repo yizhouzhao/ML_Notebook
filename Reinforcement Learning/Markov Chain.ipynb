{
 "cells": [
  {
   "cell_type": "markdown",
   "metadata": {},
   "source": [
    "## Markov Process and Markov Chain"
   ]
  },
  {
   "cell_type": "markdown",
   "metadata": {},
   "source": [
    "## Definition\n",
    "\n",
    "$\\newcommand{\\M}{\\mathcal{M}}\n",
    "\\newcommand{\\R}{\\mathbb{R}}\n",
    "\\newcommand{\\S}{\\mathcal{S}}\n",
    "\\newcommand{\\T}{\\mathcal{T}}\n",
    "\\newcommand{\\A}{\\mathcal{A}}$\n",
    "\n",
    "\n",
    "$\\M = \\{\\S, \\T \\}$\n",
    "\n",
    "where $\\S$ - state space, $s \\in \\S$ can be discrete or continuous　and $\\T$ - transition operator, which is a probability distribution $p(s_{t+1} | s_t)$ which defines the probability next step will be.\n",
    "\n",
    "Moreover, $\\T$ is defined as an operator such that \n",
    "\n",
    "$$\\mu_{t, i} = p(s_t = i)$$ and $\\overrightarrow{\\mu}_t$ is a vector of probabilities.\n",
    "\n",
    "$$\\T_{i,j} = p(s_{t+1} = i | s_t = j)$$\n",
    "\n",
    "then $\\overrightarrow{\\mu}_{t+1} = \\T\\overrightarrow{\\mu}_t$\n",
    "\n",
    "![](markov_chain.png)\n"
   ]
  },
  {
   "cell_type": "markdown",
   "metadata": {},
   "source": [
    "## Markov Decision Process\n",
    "\n",
    "$\\M = \\{\\S, \\A, \\T, r\\}$\n",
    "\n",
    "in addition to $\\S, \\T$, $\\A$ defines the action space, which can also be either discrete or continuous.  To $\\A$ in the markov chain, we define\n",
    "\n",
    "$\\zeta_{t, k} = p(a_t = k)$ and $\\T_{i,j,k} = p(s_{t+1} = i | s_t = j, a_t = k)$\n",
    "\n",
    "each state will be $\\mu_{t, i} = \\sum_{j,k} \\T_{i,j,k}\\mu_{t, j} \\zeta_{t, k}$\n",
    "\n",
    "![](mdp1.png)"
   ]
  },
  {
   "cell_type": "markdown",
   "metadata": {},
   "source": [
    "### Reward function\n",
    "\n",
    "In addition, we will define $r$, reward function, such that \n",
    "\n",
    "$$r: \\S \\times \\A \\rightarrow \\R,$$ and \n",
    "\n",
    "$$\\tau = (s_0, a_0, s_1, a_1, \\cdots, s_T, a_T)$$ is a sequence of states and actions."
   ]
  }
 ],
 "metadata": {
  "kernelspec": {
   "display_name": "Python 3",
   "language": "python",
   "name": "python3"
  },
  "language_info": {
   "codemirror_mode": {
    "name": "ipython",
    "version": 3
   },
   "file_extension": ".py",
   "mimetype": "text/x-python",
   "name": "python",
   "nbconvert_exporter": "python",
   "pygments_lexer": "ipython3",
   "version": "3.6.5"
  }
 },
 "nbformat": 4,
 "nbformat_minor": 2
}
