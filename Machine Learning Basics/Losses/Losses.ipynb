{
 "cells": [
  {
   "cell_type": "markdown",
   "metadata": {},
   "source": [
    "# Losses in ML"
   ]
  },
  {
   "cell_type": "markdown",
   "metadata": {},
   "source": [
    "## Hinge Loss"
   ]
  },
  {
   "cell_type": "markdown",
   "metadata": {},
   "source": [
    "Given the dataset $$\\{\\mathcal{X}, \\mathcal{Y} \\}$$ where $$\\mathcal{Y} = \\{1, -1\\}$$\n",
    "\n",
    "**Hinge loss** is defined as:\n",
    "\n",
    "$$L(f, x, y) = \\max(0, 1 - yf(x))$$"
   ]
  },
  {
   "cell_type": "markdown",
   "metadata": {},
   "source": [
    "### SVM Loss\n",
    "\n",
    "$$ \\newcommand{\\norm}[1]{\\left\\lVert#1\\right\\rVert} $$\n",
    "In this case $f(x,y) = w^Tx + b$, when we assume $\\norm{w}_2 = 1$, so $f(x) = w^Tx + b$ is signed measure of distance from x to $f(x) = 0$.\n",
    "\n",
    "(This is proved since distance from a point to a place is \n",
    "\n",
    "$$\\frac{f(x)}{\\norm{w}_2}$$\n",
    "\n",
    "given the plane is defined as $f(x) = 0. $"
   ]
  },
  {
   "cell_type": "markdown",
   "metadata": {},
   "source": [
    "### Cross Entropy Loss"
   ]
  }
 ],
 "metadata": {
  "kernelspec": {
   "display_name": "Python 3",
   "language": "python",
   "name": "python3"
  },
  "language_info": {
   "codemirror_mode": {
    "name": "ipython",
    "version": 3
   },
   "file_extension": ".py",
   "mimetype": "text/x-python",
   "name": "python",
   "nbconvert_exporter": "python",
   "pygments_lexer": "ipython3",
   "version": "3.6.4"
  }
 },
 "nbformat": 4,
 "nbformat_minor": 2
}
