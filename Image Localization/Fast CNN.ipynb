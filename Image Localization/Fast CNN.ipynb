{
 "cells": [
  {
   "cell_type": "markdown",
   "metadata": {},
   "source": [
    "## Fast RCNN"
   ]
  },
  {
   "cell_type": "markdown",
   "metadata": {},
   "source": [
    "### Input"
   ]
  },
  {
   "cell_type": "markdown",
   "metadata": {},
   "source": [
    "Input for Fast RCNN is an image and a list of regional proposals.  \n",
    "\n",
    "We will treat each image as $x_i \\in \\mathbb{R}^{H,W,C}$ and regional proposal as a list of $[\\cdots (r,c,h,w)_i \\cdots ]$"
   ]
  },
  {
   "cell_type": "markdown",
   "metadata": {},
   "source": [
    "### Model\n",
    "\n",
    "![fastrcnn](fastrcnn.png)"
   ]
  },
  {
   "cell_type": "markdown",
   "metadata": {},
   "source": [
    "### New Additions"
   ]
  },
  {
   "cell_type": "markdown",
   "metadata": {},
   "source": [
    "### RoI Pooling Layer\n",
    "\n",
    "**RoI pooling**, given non-uniform sized windows, output a fixed sized feature map.  \n",
    "\n",
    "- Inputs:\n",
    "    - Feature Maps (result of convolution/max pooling layers)\n",
    "    - Region Proposals (N, 5), where N is number of proposals and each column represent: \n",
    "        - image id\n",
    "        - top left corner coordninates (r, c)\n",
    "        - height and width of regional proposal (h, w)\n",
    "        \n",
    "- Hyperparameter: \n",
    "    - (H, W): fixed sized output feature map (i.e. output dimension will be (H, W, F))\n",
    "- Process\n",
    "    - Pull out regional proposal:  ((r, c), (r + h, c), (r, w+c), (r+h, w+c))\n",
    "    - Divide the grid into (H, W) sub-grids, each grid is (h/H, w/W) size\n",
    "    - perform max pooling at each subgrid"
   ]
  },
  {
   "cell_type": "markdown",
   "metadata": {},
   "source": [
    "### Improvement with Respect to RCNN"
   ]
  },
  {
   "cell_type": "markdown",
   "metadata": {},
   "source": [
    "1. Incorporated Training in one algorithm:  (Is this good or bad?)\n",
    "2. RoI (Region of Interest Pooling)\n",
    "3. Same Feature Map for all proposed regions"
   ]
  },
  {
   "cell_type": "markdown",
   "metadata": {},
   "source": [
    "## Faster RCNN"
   ]
  },
  {
   "cell_type": "markdown",
   "metadata": {},
   "source": [
    "### Input\n",
    "\n",
    "Input for Faster RCNN is an image.  No predefined regional proposal is needed as input.  \n",
    "\n",
    "We will treat each image as $x_i \\in \\mathbb{R}^{H,W,C}$ "
   ]
  },
  {
   "cell_type": "markdown",
   "metadata": {},
   "source": [
    "### Model\n",
    "\n",
    "![fasterrcnn](fasterrcnn.png)"
   ]
  },
  {
   "cell_type": "markdown",
   "metadata": {},
   "source": [
    "### New Additions:\n",
    "\n",
    "### Region Proposal Network\n",
    "\n",
    "Input is an image and outputs a set of rectangular object proposals.\n",
    "\n",
    "#### General Idea:\n",
    "\n",
    "Slide a small network over the convolutional feature map output (from the last shared layer).  For each n x n spatial window, we will generate\n",
    "1. k anchor boxes of predefined size\n",
    "2. Cast n x n into a lower dimensional feature vector.  \n",
    "3. The lower dimensional feature vector will be fed into two 1 x 1 (or fully connected) network, results in two output vectors\n",
    "    - $\\mathbb{R}^{2k}$ - which is the score on how likely is the item an object\n",
    "    - $\\mathbb{R}^{4k}$ - for each anchor (out of k), will output (r, c, h, w) for input into RoI network\n",
    "    \n",
    "*Note*: Each anchor is fixed size, every anchor will produce various (r, c, h, w)* outputs that may deviated from anchor.  "
   ]
  },
  {
   "cell_type": "markdown",
   "metadata": {},
   "source": []
  },
  {
   "cell_type": "markdown",
   "metadata": {},
   "source": [
    "## Mask RCNN"
   ]
  },
  {
   "cell_type": "markdown",
   "metadata": {},
   "source": [
    "### Input\n",
    "\n",
    "Input for Fast RCNN is an image and a list of regional proposals.  \n",
    "\n",
    "We will treat each image as $x_i \\in \\mathbb{R}^{H,W,C}$ and regional proposal as a list of $[\\cdots (r,c,h,w)_i \\cdots ]$"
   ]
  }
 ],
 "metadata": {
  "kernelspec": {
   "display_name": "Python 3",
   "language": "python",
   "name": "python3"
  },
  "language_info": {
   "codemirror_mode": {
    "name": "ipython",
    "version": 3
   },
   "file_extension": ".py",
   "mimetype": "text/x-python",
   "name": "python",
   "nbconvert_exporter": "python",
   "pygments_lexer": "ipython3",
   "version": "3.6.5"
  }
 },
 "nbformat": 4,
 "nbformat_minor": 2
}
