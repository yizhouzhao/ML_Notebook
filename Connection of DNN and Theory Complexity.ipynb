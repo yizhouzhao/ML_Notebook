{
 "cells": [
  {
   "cell_type": "markdown",
   "metadata": {},
   "source": [
    "### Why the success of DNNs is surprising"
   ]
  },
  {
   "cell_type": "markdown",
   "metadata": {},
   "source": [
    "- From both complexity and learning theory perspective, simple networks are very limited\n",
    "    - Can't compute parity with a small network\n",
    "    - NP Hard to learn \"simple functions\" like 3SAT Formulae\n",
    "\n",
    "- Most successful DNN training algorithm is greedy algorithm\n",
    "- Netowrk structure encodes dependency information, hence we cannot represent rich models\n",
    "- Moreover, node activation encodes nothing"
   ]
  },
  {
   "cell_type": "markdown",
   "metadata": {},
   "source": [
    "### Why the success of DNNs is obvious\n",
    "\n",
    "- DNNs can represent hierarchical information, which is ubiquitous in Computer Vision and Natural Language\n",
    "- Layering is a common structure in human (nature) learning \n",
    "- Many DNN optimization problem are actually easy?"
   ]
  }
 ],
 "metadata": {
  "kernelspec": {
   "display_name": "Python 3",
   "language": "python",
   "name": "python3"
  },
  "language_info": {
   "codemirror_mode": {
    "name": "ipython",
    "version": 3
   },
   "file_extension": ".py",
   "mimetype": "text/x-python",
   "name": "python",
   "nbconvert_exporter": "python",
   "pygments_lexer": "ipython3",
   "version": "3.6.4"
  }
 },
 "nbformat": 4,
 "nbformat_minor": 2
}
