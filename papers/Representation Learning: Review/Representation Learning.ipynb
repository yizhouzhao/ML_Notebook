{
 "cells": [
  {
   "cell_type": "markdown",
   "metadata": {},
   "source": [
    "# Representation Learning"
   ]
  },
  {
   "cell_type": "markdown",
   "metadata": {},
   "source": [
    "## What is Representation Learning?\n",
    "\n",
    "**Representation Learning** is learning representations of the data that make it easier to extract useful information when building classifiers or other predictors.\n",
    "\n",
    "In other words, humans can define *priors* about the problem setting that may or may not be task specific; however, it would be useful for a leanring machine to solve **AI-tasks**."
   ]
  },
  {
   "cell_type": "markdown",
   "metadata": {},
   "source": [
    "### What are the contemporary methods in Representation Learning?\n",
    "\n",
    "#### Priors for Representation Learning in AI.\n",
    "\n",
    "##### Smoothness:\n",
    "\n",
    "Assumes the function to be learned $f$ is s.t. $x \\approx y \\Longrightarrow f(x) \\approx f(y)$\n",
    "\n",
    "**Problem?**\n",
    "1. **Curse of Dimensionality**: "
   ]
  }
 ],
 "metadata": {
  "kernelspec": {
   "display_name": "Python 3",
   "language": "python",
   "name": "python3"
  },
  "language_info": {
   "codemirror_mode": {
    "name": "ipython",
    "version": 3
   },
   "file_extension": ".py",
   "mimetype": "text/x-python",
   "name": "python",
   "nbconvert_exporter": "python",
   "pygments_lexer": "ipython3",
   "version": "3.6.5"
  }
 },
 "nbformat": 4,
 "nbformat_minor": 2
}
