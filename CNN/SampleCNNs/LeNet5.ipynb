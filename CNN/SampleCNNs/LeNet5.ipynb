{
 "cells": [
  {
   "cell_type": "markdown",
   "metadata": {},
   "source": [
    "# LeNet5"
   ]
  },
  {
   "cell_type": "markdown",
   "metadata": {},
   "source": [
    "## Models"
   ]
  },
  {
   "cell_type": "markdown",
   "metadata": {},
   "source": [
    "![LeNet5](lenet5.png)\n",
    "\n",
    "- Does not scale well (uses hyperbolic tangents after every linear layer)\n",
    "- Killed off the gradients, (activation will saturate since sigmoid function is used)"
   ]
  },
  {
   "cell_type": "code",
   "execution_count": 1,
   "metadata": {},
   "outputs": [],
   "source": [
    "import tensorflow as tf\n",
    "from run_model import *\n",
    "from utils.cifar10_utils import *\n",
    "from models_utils import *"
   ]
  },
  {
   "cell_type": "code",
   "execution_count": 2,
   "metadata": {},
   "outputs": [],
   "source": [
    "DATA_DIR = \"/home/karen/workspace/data/cifar10_data\"\n",
    "BATCH_SIZE = 128\n",
    "NUM_EPOCHS = 1000"
   ]
  },
  {
   "cell_type": "code",
   "execution_count": 3,
   "metadata": {},
   "outputs": [],
   "source": [
    "def lenet_model(features, training, use_batchnorm, data_format, name=\"lenet5\"):\n",
    "    # Inputs should be images with dimension (H, W)\n",
    "    inputs = features\n",
    "    inputs = tf.layers.conv2d(inputs,6,5,padding='valid',data_format='channels_last')\n",
    "    # C1\n",
    "    inputs = tf.layers.max_pooling2d(inputs,2,2)\n",
    "    # S2\n",
    "    \n",
    "    inputs = tf.layers.conv2d(inputs,16,5,padding='valid',data_format='channels_last')\n",
    "    # C3\n",
    "    \n",
    "    inputs = tf.layers.max_pooling2d(inputs,2,2)\n",
    "    # S4\n",
    "    \n",
    "    inputs = tf.layers.conv2d(inputs,120,5,padding='valid',data_format='channels_last')\n",
    "    # C3\n",
    "    \n",
    "#     inputs = tf.squeeze(inputs)\n",
    "    inputs = tf.layers.flatten(inputs)\n",
    "    \n",
    "    inputs = tf.layers.dense(inputs, 84)\n",
    "    \n",
    "    return tf.layers.dense(inputs, 10)"
   ]
  },
  {
   "cell_type": "code",
   "execution_count": 4,
   "metadata": {},
   "outputs": [],
   "source": [
    "input_train_fn = lambda:input_fn(is_training=True, data_dir=DATA_DIR, \n",
    "                          batch_size=per_device_batch_size(BATCH_SIZE, 1),\n",
    "                          num_epochs=NUM_EPOCHS,\n",
    "                          num_gpus=1)"
   ]
  },
  {
   "cell_type": "code",
   "execution_count": 5,
   "metadata": {},
   "outputs": [],
   "source": [
    "model_fn = lambda features, labels, mode :resnet_model_fn(features, labels, mode, \n",
    "                                                          lenet_model, \"classic_lenet5_bn\", True, \n",
    "                                                          False, \"channels_first\")"
   ]
  },
  {
   "cell_type": "code",
   "execution_count": 6,
   "metadata": {},
   "outputs": [
    {
     "name": "stdout",
     "output_type": "stream",
     "text": [
      "INFO:tensorflow:Using config: {'_model_dir': './tmp/classic_lenet5_bn', '_tf_random_seed': None, '_save_summary_steps': 100, '_save_checkpoints_steps': None, '_save_checkpoints_secs': 600, '_session_config': gpu_options {\n",
      "  allow_growth: true\n",
      "}\n",
      ", '_keep_checkpoint_max': 5, '_keep_checkpoint_every_n_hours': 10000, '_log_step_count_steps': 100, '_train_distribute': None, '_service': None, '_cluster_spec': <tensorflow.python.training.server_lib.ClusterSpec object at 0x7f7caf84e908>, '_task_type': 'worker', '_task_id': 0, '_global_id_in_cluster': 0, '_master': '', '_evaluation_master': '', '_is_chief': True, '_num_ps_replicas': 0, '_num_worker_replicas': 1}\n"
     ]
    }
   ],
   "source": [
    "# distribution = tf.contrib.distribute.OneDeviceStrategy('device:GPU:0')\n",
    "config = tf.ConfigProto()\n",
    "config.gpu_options.allow_growth = True\n",
    "run_config = tf.estimator.RunConfig(session_config=config)\n",
    "classifier = tf.estimator.Estimator(model_fn=model_fn, \n",
    "                                    model_dir=\"./tmp/classic_lenet5_bn\",\n",
    "                                    config=run_config,\n",
    "                                    params=None)"
   ]
  },
  {
   "cell_type": "code",
   "execution_count": 8,
   "metadata": {},
   "outputs": [
    {
     "name": "stdout",
     "output_type": "stream",
     "text": [
      "INFO:tensorflow:Calling model_fn.\n",
      "INFO:tensorflow:Done calling model_fn.\n",
      "INFO:tensorflow:Create CheckpointSaverHook.\n",
      "INFO:tensorflow:Graph was finalized.\n",
      "INFO:tensorflow:Restoring parameters from ./tmp/classic_lenet5_bn/model.ckpt-1\n",
      "INFO:tensorflow:Running local_init_op.\n",
      "INFO:tensorflow:Done running local_init_op.\n",
      "INFO:tensorflow:Saving checkpoints for 2 into ./tmp/classic_lenet5_bn/model.ckpt.\n",
      "INFO:tensorflow:loss = 2.324249, step = 1\n",
      "INFO:tensorflow:Saving checkpoints for 10 into ./tmp/classic_lenet5_bn/model.ckpt.\n",
      "INFO:tensorflow:Loss for final step: 3.0199363.\n"
     ]
    },
    {
     "data": {
      "text/plain": [
       "<tensorflow.python.estimator.estimator.Estimator at 0x7f7caf84e748>"
      ]
     },
     "execution_count": 8,
     "metadata": {},
     "output_type": "execute_result"
    }
   ],
   "source": [
    "classifier.train(input_fn=input_train_fn, hooks=[],\n",
    "                 max_steps=10)"
   ]
  }
 ],
 "metadata": {
  "kernelspec": {
   "display_name": "Python 3",
   "language": "python",
   "name": "python3"
  },
  "language_info": {
   "codemirror_mode": {
    "name": "ipython",
    "version": 3
   },
   "file_extension": ".py",
   "mimetype": "text/x-python",
   "name": "python",
   "nbconvert_exporter": "python",
   "pygments_lexer": "ipython3",
   "version": "3.6.4"
  }
 },
 "nbformat": 4,
 "nbformat_minor": 2
}
