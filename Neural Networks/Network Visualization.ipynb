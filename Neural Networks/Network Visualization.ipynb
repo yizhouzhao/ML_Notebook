{
 "cells": [
  {
   "cell_type": "markdown",
   "metadata": {},
   "source": [
    "# Network Visualization"
   ]
  },
  {
   "cell_type": "markdown",
   "metadata": {},
   "source": [
    "Zeiler and Fergus, “Visualizing and Understanding Convolutional Networks”, "
   ]
  },
  {
   "cell_type": "markdown",
   "metadata": {},
   "source": [
    "### Key Points \n",
    "\n",
    "1. **Low level Features** are towards data input and **High Level Features** are towards output\n",
    "2. Inner representations were learned only from input image/output labels\n",
    "3. Early and Intermediate weights are typically task-independent\n",
    "4. Architecture is layered with simple units\n",
    "    - layering allows transfer learning, where pretrained weights can be applied to early layers and the network only needs to use train last few layers for specific task\n",
    "5. Layers are standard across toolkit and across domains\n",
    "6. Inner layer representations are learned only from end-to-end tasks"
   ]
  }
 ],
 "metadata": {
  "kernelspec": {
   "display_name": "Python 3",
   "language": "python",
   "name": "python3"
  },
  "language_info": {
   "codemirror_mode": {
    "name": "ipython",
    "version": 3
   },
   "file_extension": ".py",
   "mimetype": "text/x-python",
   "name": "python",
   "nbconvert_exporter": "python",
   "pygments_lexer": "ipython3",
   "version": "3.6.4"
  }
 },
 "nbformat": 4,
 "nbformat_minor": 2
}
