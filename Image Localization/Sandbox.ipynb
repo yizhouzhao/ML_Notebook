{
 "cells": [
  {
   "cell_type": "code",
   "execution_count": 1,
   "metadata": {},
   "outputs": [
    {
     "name": "stderr",
     "output_type": "stream",
     "text": [
      "/home/karen/anaconda3/envs/develop/lib/python3.6/importlib/_bootstrap.py:219: RuntimeWarning: numpy.dtype size changed, may indicate binary incompatibility. Expected 96, got 88\n",
      "  return f(*args, **kwds)\n",
      "/home/karen/anaconda3/envs/develop/lib/python3.6/importlib/_bootstrap.py:219: RuntimeWarning: numpy.dtype size changed, may indicate binary incompatibility. Expected 96, got 88\n",
      "  return f(*args, **kwds)\n",
      "/home/karen/anaconda3/envs/develop/lib/python3.6/importlib/_bootstrap.py:219: RuntimeWarning: numpy.dtype size changed, may indicate binary incompatibility. Expected 96, got 88\n",
      "  return f(*args, **kwds)\n"
     ]
    }
   ],
   "source": [
    "import object_detection\n",
    "import tensorflow as tf"
   ]
  },
  {
   "cell_type": "code",
   "execution_count": 2,
   "metadata": {},
   "outputs": [],
   "source": [
    "from object_detection.utils import label_map_util\n"
   ]
  },
  {
   "cell_type": "markdown",
   "metadata": {},
   "source": [
    "# Faster RCNN Training"
   ]
  },
  {
   "cell_type": "markdown",
   "metadata": {},
   "source": [
    "### Data Input"
   ]
  },
  {
   "cell_type": "code",
   "execution_count": 4,
   "metadata": {},
   "outputs": [],
   "source": [
    "from coco_input import *\n",
    "import matplotlib.pyplot as plt\n",
    "import PIL\n",
    "data_dir = '/home/karen/workspace/data/cocodataset/'"
   ]
  },
  {
   "cell_type": "code",
   "execution_count": 5,
   "metadata": {},
   "outputs": [],
   "source": [
    "coco_data = CocoCaptionData(data_dir)"
   ]
  },
  {
   "cell_type": "code",
   "execution_count": 6,
   "metadata": {},
   "outputs": [],
   "source": [
    "caption_data, image_data = coco_data.get_captions(True)"
   ]
  },
  {
   "cell_type": "code",
   "execution_count": 7,
   "metadata": {},
   "outputs": [],
   "source": [
    "vocab_data = CocoCaptionData.get_vocab(caption_data[\"caption\"])"
   ]
  },
  {
   "cell_type": "code",
   "execution_count": 8,
   "metadata": {},
   "outputs": [],
   "source": [
    "input_fn = coco_data.coco_input(data_dir, True, False, False, 1, 500, 64)"
   ]
  },
  {
   "cell_type": "code",
   "execution_count": 16,
   "metadata": {},
   "outputs": [
    {
     "data": {
      "text/plain": [
       "({'filename': <tf.Tensor 'IteratorGetNext:1' shape=(64,) dtype=string>,\n",
       "  'caption_id': <tf.Tensor 'IteratorGetNext:0' shape=(64, 2) dtype=int64>,\n",
       "  'img': <tf.Tensor 'IteratorGetNext:2' shape=(64, 224, 224, 3) dtype=float32>},\n",
       " <tf.Tensor 'IteratorGetNext:3' shape=(64, 183) dtype=int64>)"
      ]
     },
     "execution_count": 16,
     "metadata": {},
     "output_type": "execute_result"
    }
   ],
   "source": [
    "input_fn()"
   ]
  },
  {
   "cell_type": "code",
   "execution_count": 10,
   "metadata": {},
   "outputs": [],
   "source": [
    "from object_detection.model_lib import create_estimator_and_inputs, create_train_and_eval_specs\n",
    "from object_detection import model_hparams"
   ]
  },
  {
   "cell_type": "code",
   "execution_count": 11,
   "metadata": {},
   "outputs": [
    {
     "name": "stdout",
     "output_type": "stream",
     "text": [
      "INFO:tensorflow:Maybe overwriting train_steps: 100\n",
      "INFO:tensorflow:Maybe overwriting eval_steps: 100\n",
      "INFO:tensorflow:Maybe overwriting retain_original_images_in_eval: True\n",
      "INFO:tensorflow:Maybe overwriting load_pretrained: True\n",
      "INFO:tensorflow:Ignoring config override key: load_pretrained\n",
      "INFO:tensorflow:create_estimator_and_inputs: use_tpu False\n",
      "INFO:tensorflow:Using config: {'_model_dir': 'model/', '_tf_random_seed': None, '_save_summary_steps': 100, '_save_checkpoints_steps': None, '_save_checkpoints_secs': 600, '_session_config': None, '_keep_checkpoint_max': 5, '_keep_checkpoint_every_n_hours': 10000, '_log_step_count_steps': 100, '_train_distribute': None, '_service': None, '_cluster_spec': <tensorflow.python.training.server_lib.ClusterSpec object at 0x7fb53d3a2f28>, '_task_type': 'worker', '_task_id': 0, '_global_id_in_cluster': 0, '_master': '', '_evaluation_master': '', '_is_chief': True, '_num_ps_replicas': 0, '_num_worker_replicas': 1}\n",
      "WARNING:tensorflow:Estimator's model_fn (<function create_model_fn.<locals>.model_fn at 0x7fb55ada7b70>) includes params argument, but params are not passed to Estimator.\n",
      "INFO:tensorflow:Writing pipeline config file to model/pipeline.config\n"
     ]
    }
   ],
   "source": [
    "# run_config \n",
    "config = tf.estimator.RunConfig(model_dir=\"model/\")\n",
    "\n",
    "# Hparams\n",
    "hparams = model_hparams.create_hparams()\n",
    "# pipeline_config_path\n",
    "pipeline_config = \"faster_rcnn.config\"\n",
    "# train_steps\n",
    "train = 100\n",
    "# eval_steps\n",
    "eval_steps = 100\n",
    "\n",
    "train_and_eval_dict = create_estimator_and_inputs(\n",
    "    run_config =config,\n",
    "    hparams=hparams,\n",
    "    pipeline_config_path = pipeline_config,\n",
    "    train_steps = train,\n",
    "    eval_steps = eval_steps)"
   ]
  },
  {
   "cell_type": "code",
   "execution_count": 12,
   "metadata": {},
   "outputs": [
    {
     "name": "stdout",
     "output_type": "stream",
     "text": [
      "dict_keys(['estimator', 'train_input_fn', 'eval_input_fn', 'eval_on_train_input_fn', 'predict_input_fn', 'train_steps', 'eval_steps'])\n"
     ]
    }
   ],
   "source": [
    "print(train_and_eval_dict.keys())"
   ]
  },
  {
   "cell_type": "code",
   "execution_count": 13,
   "metadata": {},
   "outputs": [],
   "source": [
    "estimator = train_and_eval_dict[\"estimator\"]\n",
    "train_input_fn = train_and_eval_dict['train_input_fn']\n",
    "eval_input_fn = train_and_eval_dict['eval_input_fn']\n",
    "eval_on_train_input_fn = train_and_eval_dict['eval_on_train_input_fn']\n",
    "predict_input_fn = train_and_eval_dict['predict_input_fn']\n",
    "train_steps = train_and_eval_dict['train_steps']\n",
    "eval_steps = train_and_eval_dict['eval_steps']"
   ]
  },
  {
   "cell_type": "code",
   "execution_count": 15,
   "metadata": {},
   "outputs": [
    {
     "name": "stdout",
     "output_type": "stream",
     "text": [
      "WARNING:tensorflow:num_readers has been reduced to 1 to match input file shards.\n",
      "<PrefetchDataset shapes: ({image: (1, ?, ?, 3), hash: (1,), true_image_shape: (1, 3)}, {num_groundtruth_boxes: (1,), groundtruth_boxes: (1, 100, 4), groundtruth_classes: (1, 100, 90), groundtruth_weights: (1, 100), groundtruth_area: (1, 100), groundtruth_is_crowd: (1, 100), groundtruth_difficult: (1, 100)}), types: ({image: tf.float32, hash: tf.int32, true_image_shape: tf.int32}, {num_groundtruth_boxes: tf.int32, groundtruth_boxes: tf.float32, groundtruth_classes: tf.float32, groundtruth_weights: tf.float32, groundtruth_area: tf.float32, groundtruth_is_crowd: tf.bool, groundtruth_difficult: tf.int32})>\n"
     ]
    }
   ],
   "source": [
    "print(train_input_fn())"
   ]
  },
  {
   "cell_type": "code",
   "execution_count": 14,
   "metadata": {},
   "outputs": [],
   "source": [
    "train_spec, eval_specs = create_train_and_eval_specs(\n",
    "    train_input_fn,\n",
    "    eval_input_fn,\n",
    "    eval_on_train_input_fn,\n",
    "    predict_input_fn,\n",
    "    train_steps,\n",
    "    eval_steps,\n",
    "    eval_on_train_data=False)"
   ]
  },
  {
   "cell_type": "code",
   "execution_count": null,
   "metadata": {},
   "outputs": [
    {
     "name": "stdout",
     "output_type": "stream",
     "text": [
      "INFO:tensorflow:Running training and evaluation locally (non-distributed).\n",
      "INFO:tensorflow:Start train and evaluate loop. The evaluate will happen after 600 secs (eval_spec.throttle_secs) or training is finished.\n",
      "INFO:tensorflow:Skipping training since max_steps has already saved.\n",
      "INFO:tensorflow:Calling model_fn.\n",
      "INFO:tensorflow:Scale of 0 disables regularizer.\n",
      "INFO:tensorflow:Scale of 0 disables regularizer.\n",
      "INFO:tensorflow:Scale of 0 disables regularizer.\n",
      "INFO:tensorflow:Scale of 0 disables regularizer.\n",
      "INFO:tensorflow:depth of additional conv before box predictor: 0\n",
      "INFO:tensorflow:Scale of 0 disables regularizer.\n",
      "INFO:tensorflow:Scale of 0 disables regularizer.\n",
      "WARNING:tensorflow:From /home/karen/workspace/src/models/research/object_detection/core/box_predictor.py:407: calling reduce_mean (from tensorflow.python.ops.math_ops) with keep_dims is deprecated and will be removed in a future version.\n",
      "Instructions for updating:\n",
      "keep_dims is deprecated, use keepdims instead\n",
      "INFO:tensorflow:Scale of 0 disables regularizer.\n",
      "WARNING:tensorflow:From /home/karen/workspace/src/models/research/object_detection/core/losses.py:317: softmax_cross_entropy_with_logits (from tensorflow.python.ops.nn_ops) is deprecated and will be removed in a future version.\n",
      "Instructions for updating:\n",
      "\n",
      "Future major versions of TensorFlow will allow gradients to flow\n",
      "into the labels input on backprop by default.\n",
      "\n",
      "See @{tf.nn.softmax_cross_entropy_with_logits_v2}.\n",
      "\n",
      "INFO:tensorflow:Done calling model_fn.\n",
      "INFO:tensorflow:Starting evaluation at 2018-07-09-23:16:05\n",
      "INFO:tensorflow:Graph was finalized.\n",
      "INFO:tensorflow:Restoring parameters from model/model.ckpt\n",
      "INFO:tensorflow:Running local_init_op.\n",
      "INFO:tensorflow:Done running local_init_op.\n",
      "INFO:tensorflow:Evaluation [10/100]\n",
      "INFO:tensorflow:Evaluation [20/100]\n",
      "INFO:tensorflow:Evaluation [30/100]\n",
      "INFO:tensorflow:Evaluation [40/100]\n",
      "INFO:tensorflow:Evaluation [50/100]\n",
      "INFO:tensorflow:Evaluation [60/100]\n",
      "INFO:tensorflow:Evaluation [70/100]\n",
      "INFO:tensorflow:Evaluation [80/100]\n",
      "INFO:tensorflow:Evaluation [90/100]\n"
     ]
    }
   ],
   "source": [
    "tf.estimator.train_and_evaluate(estimator, train_spec, eval_specs[0])\n"
   ]
  }
 ],
 "metadata": {
  "kernelspec": {
   "display_name": "Python 3",
   "language": "python",
   "name": "python3"
  },
  "language_info": {
   "codemirror_mode": {
    "name": "ipython",
    "version": 3
   },
   "file_extension": ".py",
   "mimetype": "text/x-python",
   "name": "python",
   "nbconvert_exporter": "python",
   "pygments_lexer": "ipython3",
   "version": "3.6.4"
  }
 },
 "nbformat": 4,
 "nbformat_minor": 2
}
